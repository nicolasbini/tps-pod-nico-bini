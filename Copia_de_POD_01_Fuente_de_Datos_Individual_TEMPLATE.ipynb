{
  "nbformat": 4,
  "nbformat_minor": 0,
  "metadata": {
    "colab": {
      "provenance": [],
      "collapsed_sections": [
        "8ec8DQdbWQfC",
        "Qle1xWYPd8Sv",
        "0PC11afRgkYM",
        "T2RSUVCvoxT4",
        "jkYYyfAbzUb1",
        "pEHxdsKh4atw"
      ],
      "include_colab_link": true
    },
    "kernelspec": {
      "name": "python3",
      "display_name": "Python 3"
    },
    "language_info": {
      "name": "python"
    }
  },
  "cells": [
    {
      "cell_type": "markdown",
      "metadata": {
        "id": "view-in-github",
        "colab_type": "text"
      },
      "source": [
        "<a href=\"https://colab.research.google.com/github/nicolasbini/tps-pod-nico-bini/blob/main/Copia_de_POD_01_Fuente_de_Datos_Individual_TEMPLATE.ipynb\" target=\"_parent\"><img src=\"https://colab.research.google.com/assets/colab-badge.svg\" alt=\"Open In Colab\"/></a>"
      ]
    },
    {
      "cell_type": "markdown",
      "source": [
        "*   **Año:** [2024]\n",
        "*   **Alumno/a:** [Nicolas Bini]\n",
        "*   **Legajo:** [LEGAJO]"
      ],
      "metadata": {
        "id": "UwxQU5JCF33j"
      }
    },
    {
      "cell_type": "markdown",
      "source": [
        "# Archivos de texto plano\n",
        "\n",
        "[gutenberg.org](https://www.gutenberg.org/) (llamado así por el inventor de la imprenta moderna) es el sitio web del Proyecto Gutenberg que se dedica a la distribución y creación de eBooks. En este sitio se encuentra el [Don Quijote](https://www.gutenberg.org/ebooks/14859). El Don Quijote se puede leer en diferentes formatos, ¿no? Para la tarea, se va a usar el Don Quijote de texto plano. La siguiente celda descarga el .txt y lo guarda en el sistema para luego su futura lectura:\n",
        "\n",
        "\n"
      ],
      "metadata": {
        "id": "8ec8DQdbWQfC"
      }
    },
    {
      "cell_type": "code",
      "source": [
        "!wget https://www.gutenberg.org/cache/epub/2000/pg2000.txt"
      ],
      "metadata": {
        "id": "IdwR3kTsWOOf",
        "outputId": "5bd59a55-316f-4dac-9e9c-bb98f909bdb6",
        "colab": {
          "base_uri": "https://localhost:8080/"
        }
      },
      "execution_count": null,
      "outputs": [
        {
          "output_type": "stream",
          "name": "stdout",
          "text": [
            "--2024-11-24 23:11:44--  https://www.gutenberg.org/cache/epub/2000/pg2000.txt\n",
            "Resolving www.gutenberg.org (www.gutenberg.org)... 152.19.134.47, 2610:28:3090:3000:0:bad:cafe:47\n",
            "Connecting to www.gutenberg.org (www.gutenberg.org)|152.19.134.47|:443... connected.\n",
            "HTTP request sent, awaiting response... 200 OK\n",
            "Length: 2225845 (2.1M) [text/plain]\n",
            "Saving to: ‘pg2000.txt’\n",
            "\n",
            "pg2000.txt          100%[===================>]   2.12M  --.-KB/s    in 0.1s    \n",
            "\n",
            "2024-11-24 23:11:45 (16.4 MB/s) - ‘pg2000.txt’ saved [2225845/2225845]\n",
            "\n"
          ]
        }
      ]
    },
    {
      "cell_type": "markdown",
      "source": [
        "## Consignas"
      ],
      "metadata": {
        "id": "EVyry9l3Y-Ym"
      }
    },
    {
      "cell_type": "markdown",
      "source": [
        "***NOTA: Para estas consignas, no se puede usar modulos externos a Python***"
      ],
      "metadata": {
        "id": "9JSAN376c69E"
      }
    },
    {
      "cell_type": "markdown",
      "source": [
        "Del archivo descargado, calcular la cantidad de lineas:"
      ],
      "metadata": {
        "id": "uF01w4AQcrtV"
      }
    },
    {
      "cell_type": "code",
      "source": [
        "archivo = open('pg2000.txt','r')\n",
        "lineas = archivo.readlines() #devuelve todas las lineas hasta '\\n'\n",
        "#print(lineas)\n",
        "print(len(lineas))\n",
        "archivo.close()"
      ],
      "metadata": {
        "id": "4WPUcwU_c5n2",
        "outputId": "b81d795a-87b3-4bf3-8150-0080a312ead5",
        "colab": {
          "base_uri": "https://localhost:8080/",
          "height": 211
        }
      },
      "execution_count": null,
      "outputs": [
        {
          "output_type": "error",
          "ename": "FileNotFoundError",
          "evalue": "[Errno 2] No such file or directory: 'pg2000.txt'",
          "traceback": [
            "\u001b[0;31m---------------------------------------------------------------------------\u001b[0m",
            "\u001b[0;31mFileNotFoundError\u001b[0m                         Traceback (most recent call last)",
            "\u001b[0;32m<ipython-input-3-1332940d098a>\u001b[0m in \u001b[0;36m<cell line: 1>\u001b[0;34m()\u001b[0m\n\u001b[0;32m----> 1\u001b[0;31m \u001b[0marchivo\u001b[0m \u001b[0;34m=\u001b[0m \u001b[0mopen\u001b[0m\u001b[0;34m(\u001b[0m\u001b[0;34m'pg2000.txt'\u001b[0m\u001b[0;34m,\u001b[0m\u001b[0;34m'r'\u001b[0m\u001b[0;34m)\u001b[0m\u001b[0;34m\u001b[0m\u001b[0;34m\u001b[0m\u001b[0m\n\u001b[0m\u001b[1;32m      2\u001b[0m \u001b[0mlineas\u001b[0m \u001b[0;34m=\u001b[0m \u001b[0marchivo\u001b[0m\u001b[0;34m.\u001b[0m\u001b[0mreadlines\u001b[0m\u001b[0;34m(\u001b[0m\u001b[0;34m)\u001b[0m \u001b[0;31m#devuelve todas las lineas hasta '\\n'\u001b[0m\u001b[0;34m\u001b[0m\u001b[0;34m\u001b[0m\u001b[0m\n\u001b[1;32m      3\u001b[0m \u001b[0;31m#print(lineas)\u001b[0m\u001b[0;34m\u001b[0m\u001b[0;34m\u001b[0m\u001b[0m\n\u001b[1;32m      4\u001b[0m \u001b[0mprint\u001b[0m\u001b[0;34m(\u001b[0m\u001b[0mlen\u001b[0m\u001b[0;34m(\u001b[0m\u001b[0mlineas\u001b[0m\u001b[0;34m)\u001b[0m\u001b[0;34m)\u001b[0m\u001b[0;34m\u001b[0m\u001b[0;34m\u001b[0m\u001b[0m\n\u001b[1;32m      5\u001b[0m \u001b[0marchivo\u001b[0m\u001b[0;34m.\u001b[0m\u001b[0mclose\u001b[0m\u001b[0;34m(\u001b[0m\u001b[0;34m)\u001b[0m\u001b[0;34m\u001b[0m\u001b[0;34m\u001b[0m\u001b[0m\n",
            "\u001b[0;31mFileNotFoundError\u001b[0m: [Errno 2] No such file or directory: 'pg2000.txt'"
          ]
        }
      ]
    },
    {
      "cell_type": "markdown",
      "source": [
        "Del archivo descargado, calcular la cantidad de veces que se dice:\n",
        "*   'Quijote'\n",
        "*   'mancha'\n",
        "*   'españa'\n",
        "\n",
        "Considerar que, por ejemplo, 'QuiJoTe' es lo mismo que 'quijote' (no *case sensitive*)."
      ],
      "metadata": {
        "id": "KoGfZeqnX0zu"
      }
    },
    {
      "cell_type": "code",
      "source": [
        "#print(lineas)\n",
        "\n",
        "# no se puede usar count() ni find() :(\n",
        "\n",
        "#creo una lista de todas las palabras\n",
        "palabras = []\n",
        "\n",
        "for linea in lineas:\n",
        "  #normalizo las lineas y las separo por palabras\n",
        "  linea = linea.lower()\n",
        "# linea = linea.strip()\n",
        "  linea = linea.split()\n",
        "  # agrego a la lista de palabras\n",
        "  palabras.extend(linea)\n",
        "\n",
        "quijote = 0\n",
        "mancha = 0\n",
        "espania = 0\n",
        "\n",
        "for palabra in palabras:\n",
        "  if 'quijote' in palabra:\n",
        "    quijote += 1\n",
        "  elif 'mancha' in palabra:\n",
        "    mancha += 1\n",
        "  elif 'españa' in palabra:\n",
        "    espania += 1\n",
        "\n",
        "print('Quijote:',quijote)\n",
        "print('Mancha:',mancha)\n",
        "print('España:',espania)"
      ],
      "metadata": {
        "id": "sRr7k698gUHn",
        "outputId": "7d70d6b0-7e40-4988-a154-46d83761921a",
        "colab": {
          "base_uri": "https://localhost:8080/",
          "height": 211
        }
      },
      "execution_count": null,
      "outputs": [
        {
          "output_type": "error",
          "ename": "NameError",
          "evalue": "name 'lineas' is not defined",
          "traceback": [
            "\u001b[0;31m---------------------------------------------------------------------------\u001b[0m",
            "\u001b[0;31mNameError\u001b[0m                                 Traceback (most recent call last)",
            "\u001b[0;32m<ipython-input-9-6aa0a2e904a0>\u001b[0m in \u001b[0;36m<cell line: 8>\u001b[0;34m()\u001b[0m\n\u001b[1;32m      6\u001b[0m \u001b[0mpalabras\u001b[0m \u001b[0;34m=\u001b[0m \u001b[0;34m[\u001b[0m\u001b[0;34m]\u001b[0m\u001b[0;34m\u001b[0m\u001b[0;34m\u001b[0m\u001b[0m\n\u001b[1;32m      7\u001b[0m \u001b[0;34m\u001b[0m\u001b[0m\n\u001b[0;32m----> 8\u001b[0;31m \u001b[0;32mfor\u001b[0m \u001b[0mlinea\u001b[0m \u001b[0;32min\u001b[0m \u001b[0mlineas\u001b[0m\u001b[0;34m:\u001b[0m\u001b[0;34m\u001b[0m\u001b[0;34m\u001b[0m\u001b[0m\n\u001b[0m\u001b[1;32m      9\u001b[0m   \u001b[0;31m#normalizo las lineas y las separo por palabras\u001b[0m\u001b[0;34m\u001b[0m\u001b[0;34m\u001b[0m\u001b[0m\n\u001b[1;32m     10\u001b[0m   \u001b[0mlinea\u001b[0m \u001b[0;34m=\u001b[0m \u001b[0mlinea\u001b[0m\u001b[0;34m.\u001b[0m\u001b[0mlower\u001b[0m\u001b[0;34m(\u001b[0m\u001b[0;34m)\u001b[0m\u001b[0;34m\u001b[0m\u001b[0;34m\u001b[0m\u001b[0m\n",
            "\u001b[0;31mNameError\u001b[0m: name 'lineas' is not defined"
          ]
        }
      ]
    },
    {
      "cell_type": "code",
      "source": [
        "archivo = open('pg2000.txt','r')\n",
        "lineas = archivo.readlines()[:20] # leer hasta 20 lineas\n",
        "for linea in lineas:\n",
        "  print(linea)\n",
        "archivo.close()\n",
        "\n",
        "#se ve que:\n",
        "\n",
        "#Title: Don Quijote\n",
        "#Author: Miguel de Cervantes Saavedra\n",
        "print(\"----------------------------------------------------\")\n",
        "for linea in lineas:\n",
        "  if 'Title:' in linea:\n",
        "    print(linea)\n",
        "  elif 'Author:' in linea:\n",
        "    print(linea)"
      ],
      "metadata": {
        "id": "5W3S6N1VWOXS",
        "outputId": "3dcf5508-1049-4626-ea15-e0dbddad8d58",
        "colab": {
          "base_uri": "https://localhost:8080/",
          "height": 211
        }
      },
      "execution_count": null,
      "outputs": [
        {
          "output_type": "error",
          "ename": "FileNotFoundError",
          "evalue": "[Errno 2] No such file or directory: 'pg2000.txt'",
          "traceback": [
            "\u001b[0;31m---------------------------------------------------------------------------\u001b[0m",
            "\u001b[0;31mFileNotFoundError\u001b[0m                         Traceback (most recent call last)",
            "\u001b[0;32m<ipython-input-4-4604a97b5fa8>\u001b[0m in \u001b[0;36m<cell line: 1>\u001b[0;34m()\u001b[0m\n\u001b[0;32m----> 1\u001b[0;31m \u001b[0marchivo\u001b[0m \u001b[0;34m=\u001b[0m \u001b[0mopen\u001b[0m\u001b[0;34m(\u001b[0m\u001b[0;34m'pg2000.txt'\u001b[0m\u001b[0;34m,\u001b[0m\u001b[0;34m'r'\u001b[0m\u001b[0;34m)\u001b[0m\u001b[0;34m\u001b[0m\u001b[0;34m\u001b[0m\u001b[0m\n\u001b[0m\u001b[1;32m      2\u001b[0m \u001b[0mlineas\u001b[0m \u001b[0;34m=\u001b[0m \u001b[0marchivo\u001b[0m\u001b[0;34m.\u001b[0m\u001b[0mreadlines\u001b[0m\u001b[0;34m(\u001b[0m\u001b[0;34m)\u001b[0m\u001b[0;34m[\u001b[0m\u001b[0;34m:\u001b[0m\u001b[0;36m20\u001b[0m\u001b[0;34m]\u001b[0m \u001b[0;31m# leer hasta 20 lineas\u001b[0m\u001b[0;34m\u001b[0m\u001b[0;34m\u001b[0m\u001b[0m\n\u001b[1;32m      3\u001b[0m \u001b[0;32mfor\u001b[0m \u001b[0mlinea\u001b[0m \u001b[0;32min\u001b[0m \u001b[0mlineas\u001b[0m\u001b[0;34m:\u001b[0m\u001b[0;34m\u001b[0m\u001b[0;34m\u001b[0m\u001b[0m\n\u001b[1;32m      4\u001b[0m   \u001b[0mprint\u001b[0m\u001b[0;34m(\u001b[0m\u001b[0mlinea\u001b[0m\u001b[0;34m)\u001b[0m\u001b[0;34m\u001b[0m\u001b[0;34m\u001b[0m\u001b[0m\n\u001b[1;32m      5\u001b[0m \u001b[0marchivo\u001b[0m\u001b[0;34m.\u001b[0m\u001b[0mclose\u001b[0m\u001b[0;34m(\u001b[0m\u001b[0;34m)\u001b[0m\u001b[0;34m\u001b[0m\u001b[0;34m\u001b[0m\u001b[0m\n",
            "\u001b[0;31mFileNotFoundError\u001b[0m: [Errno 2] No such file or directory: 'pg2000.txt'"
          ]
        }
      ]
    },
    {
      "cell_type": "markdown",
      "source": [
        "¿Quien es el autor y titulo del libro? Responderlo usando las herramientas utilizadas en la celda anterior (Tip: abrir el archivo de texto y ver como son las primeras lineas)."
      ],
      "metadata": {
        "id": "7sD03KW_ZBRP"
      }
    },
    {
      "cell_type": "code",
      "source": [
        "#Escribir el codigo para responder la pregunta en esta celda"
      ],
      "metadata": {
        "id": "UOeILNtRWOkc"
      },
      "execution_count": null,
      "outputs": []
    },
    {
      "cell_type": "markdown",
      "source": [
        "# Archivos .csv\n",
        "\n",
        "*Robert* De Niro actuó en mas de 100 peliculas y Rotten Tomatoes es un sitio web en el que se pueden leer criticas y ratings a peliculas hechos por críticos y usuarios. La siguiente linea descarga un archivo .csv en el que tenemos peliculas de De Niro junto a su rating en Rotten Tomatoes:"
      ],
      "metadata": {
        "id": "Qle1xWYPd8Sv"
      }
    },
    {
      "cell_type": "code",
      "source": [
        "!wget https://people.sc.fsu.edu/~jburkardt/data/csv/deniro.csv"
      ],
      "metadata": {
        "id": "xjR9oYuQciUC"
      },
      "execution_count": null,
      "outputs": []
    },
    {
      "cell_type": "markdown",
      "source": [
        "## Consignas"
      ],
      "metadata": {
        "id": "jKPEhcgmfH0V"
      }
    },
    {
      "cell_type": "markdown",
      "source": [
        "***NOTA: Apartir de aca, se pueden usar modulos externos de Python***"
      ],
      "metadata": {
        "id": "wapWSGEUfa2p"
      }
    },
    {
      "cell_type": "markdown",
      "source": [
        "Sabemos que el archivo tiene en su primera linea los 'headers'. ¿Cuales son? Imprimirlos."
      ],
      "metadata": {
        "id": "O1QNcst1fQEm"
      }
    },
    {
      "cell_type": "code",
      "source": [
        "archivo = open('deniro.csv','r')\n",
        "lineas = archivo.readlines()\n",
        "print(lineas[0])\n",
        "archivo.close()"
      ],
      "metadata": {
        "id": "WEkUhVuQfPoi",
        "outputId": "ebec3841-5971-4ed3-9d48-6664777e6218",
        "colab": {
          "base_uri": "https://localhost:8080/",
          "height": 193
        }
      },
      "execution_count": null,
      "outputs": [
        {
          "output_type": "error",
          "ename": "FileNotFoundError",
          "evalue": "[Errno 2] No such file or directory: 'deniro.csv'",
          "traceback": [
            "\u001b[0;31m---------------------------------------------------------------------------\u001b[0m",
            "\u001b[0;31mFileNotFoundError\u001b[0m                         Traceback (most recent call last)",
            "\u001b[0;32m<ipython-input-8-2b28670511b8>\u001b[0m in \u001b[0;36m<cell line: 1>\u001b[0;34m()\u001b[0m\n\u001b[0;32m----> 1\u001b[0;31m \u001b[0marchivo\u001b[0m \u001b[0;34m=\u001b[0m \u001b[0mopen\u001b[0m\u001b[0;34m(\u001b[0m\u001b[0;34m'deniro.csv'\u001b[0m\u001b[0;34m,\u001b[0m\u001b[0;34m'r'\u001b[0m\u001b[0;34m)\u001b[0m\u001b[0;34m\u001b[0m\u001b[0;34m\u001b[0m\u001b[0m\n\u001b[0m\u001b[1;32m      2\u001b[0m \u001b[0mlineas\u001b[0m \u001b[0;34m=\u001b[0m \u001b[0marchivo\u001b[0m\u001b[0;34m.\u001b[0m\u001b[0mreadlines\u001b[0m\u001b[0;34m(\u001b[0m\u001b[0;34m)\u001b[0m\u001b[0;34m\u001b[0m\u001b[0;34m\u001b[0m\u001b[0m\n\u001b[1;32m      3\u001b[0m \u001b[0mprint\u001b[0m\u001b[0;34m(\u001b[0m\u001b[0mlineas\u001b[0m\u001b[0;34m[\u001b[0m\u001b[0;36m0\u001b[0m\u001b[0;34m]\u001b[0m\u001b[0;34m)\u001b[0m\u001b[0;34m\u001b[0m\u001b[0;34m\u001b[0m\u001b[0m\n\u001b[1;32m      4\u001b[0m \u001b[0marchivo\u001b[0m\u001b[0;34m.\u001b[0m\u001b[0mclose\u001b[0m\u001b[0;34m(\u001b[0m\u001b[0;34m)\u001b[0m\u001b[0;34m\u001b[0m\u001b[0;34m\u001b[0m\u001b[0m\n",
            "\u001b[0;31mFileNotFoundError\u001b[0m: [Errno 2] No such file or directory: 'deniro.csv'"
          ]
        }
      ]
    },
    {
      "cell_type": "markdown",
      "source": [
        "Convertir la información del archivo .csv a un diccionario."
      ],
      "metadata": {
        "id": "JlB8YAhKfd-x"
      }
    },
    {
      "cell_type": "code",
      "source": [
        "import csv\n",
        "lista = []\n",
        "archivo = open('deniro.csv','r')\n",
        "# Es necesario usar atributos adicionales para tomar en cuenta los nombres de\n",
        "# no convencionales de las paeliculas (que contienen apostrophee ')\n",
        "reader = csv.DictReader(archivo, quotechar='\"', delimiter=',', skipinitialspace=True)\n",
        "for row in reader:\n",
        "  lista.append(row)\n",
        "archivo.close()\n",
        "#print(lista)\n",
        "for item in lista:\n",
        "  print(item)"
      ],
      "metadata": {
        "id": "tpHR0iv0fdor"
      },
      "execution_count": null,
      "outputs": []
    },
    {
      "cell_type": "markdown",
      "source": [
        "¿Cuantas peliculas hay registradas en el archivo .csv?"
      ],
      "metadata": {
        "id": "7LfMvtSOfnry"
      }
    },
    {
      "cell_type": "code",
      "source": [
        "print(\"Son\", len(lista), \"peliculas en la lista\")"
      ],
      "metadata": {
        "id": "cW6gEL79WOz-"
      },
      "execution_count": null,
      "outputs": []
    },
    {
      "cell_type": "markdown",
      "source": [
        "Imprimir las peliculas mejor y peor rankeadas del archivo (imprimir sus respectivos rankings)"
      ],
      "metadata": {
        "id": "cX6NHr3Mfwmb"
      }
    },
    {
      "cell_type": "code",
      "source": [
        "print(type(lista[0][\"Score\"]))\n",
        "# El score esta en formato str\n",
        "\n",
        "# Necesito convertirlos a int\n",
        "for i in range(len(lista)):\n",
        "  lista[i][\"Score\"] = int(lista[i][\"Score\"])\n",
        "\n",
        "print(type(lista[0][\"Score\"]))\n",
        "\n",
        "print('----------------------------------------------------')\n",
        "\n",
        "#seteo los valores defaults\n",
        "mejor = [lista[0][\"Score\"],lista[0][\"Title\"]]\n",
        "peor = [lista[0][\"Score\"],lista[0][\"Title\"]]\n",
        "\n",
        "for i in range(len(lista)):\n",
        "  if lista[i][\"Score\"] > mejor[0]:\n",
        "    mejor = [lista[i][\"Score\"],lista[i][\"Title\"]]\n",
        "  if lista[i][\"Score\"] < peor[0]:\n",
        "    peor = [lista[i][\"Score\"],lista[i][\"Title\"]]\n",
        "\n",
        "print(\"Mejor pelicula:\", mejor[1], \"con el rating de\", mejor[0])\n",
        "print(\"Mejor pelicula:\", peor[1], \"con el rating de\", peor[0])"
      ],
      "metadata": {
        "id": "elardtrTWO8f"
      },
      "execution_count": null,
      "outputs": []
    },
    {
      "cell_type": "markdown",
      "source": [
        "# Base de datos - Relacionales\n",
        "\n",
        "SQLite es una biblioteca de C que provee una base de datos ligera basada en disco que no requiere un proceso de servidor separado y permite acceder a la base de datos usando una variación no estándar del lenguaje de consulta SQL. Algunas aplicaciones pueden usar SQLite para almacenamiento interno. También es posible prototipar una aplicación usando SQLite y luego transferir el código a una base de datos más grande como PostgreSQL u Oracle."
      ],
      "metadata": {
        "id": "0PC11afRgkYM"
      }
    },
    {
      "cell_type": "markdown",
      "source": [
        "Realizamos el `import` e indicamos el archivo en el que vamos a guardar la base de datos:"
      ],
      "metadata": {
        "id": "KaNvinOlgwWN"
      }
    },
    {
      "cell_type": "code",
      "source": [
        "import sqlite3\n",
        "conn = sqlite3.connect('db.db')"
      ],
      "metadata": {
        "id": "0zWsglLEgjEo"
      },
      "execution_count": null,
      "outputs": []
    },
    {
      "cell_type": "markdown",
      "source": [
        "La siguiente linea de codigo agrega filas a la misma. Por favor, ejecutar la siguiente celda para la consigna:\n",
        "\n"
      ],
      "metadata": {
        "id": "T-jXx8QEhsHm"
      }
    },
    {
      "cell_type": "code",
      "source": [
        "!wget https://people.sc.fsu.edu/~jburkardt/data/csv/snakes_count_10000.csv\n",
        "\n",
        "cur = conn.cursor()\n",
        "cur.execute(\"CREATE TABLE t (GameNumber, GameLength);\")\n",
        "\n",
        "with open('snakes_count_10000.csv','r') as csv_file:\n",
        "  lines = csv_file.readlines()[1:]\n",
        "  lines = [l.split(',') for l in lines]\n",
        "  to_db = [(l[0].strip(), l[1].strip()) for l in lines]\n",
        "\n",
        "cur.executemany(\"INSERT INTO t (GameNumber, GameLength) VALUES (?, ?);\", to_db)\n",
        "conn.commit()\n",
        "conn.close()"
      ],
      "metadata": {
        "id": "JUQ2JAOmgjWW",
        "colab": {
          "base_uri": "https://localhost:8080/"
        },
        "outputId": "188e7e4d-a966-4121-e4fb-c3898ebcc467"
      },
      "execution_count": null,
      "outputs": [
        {
          "output_type": "stream",
          "name": "stdout",
          "text": [
            "--2024-11-28 16:34:06--  https://people.sc.fsu.edu/~jburkardt/data/csv/snakes_count_10000.csv\n",
            "Resolving people.sc.fsu.edu (people.sc.fsu.edu)... 144.174.0.22\n",
            "Connecting to people.sc.fsu.edu (people.sc.fsu.edu)|144.174.0.22|:443... connected.\n",
            "HTTP request sent, awaiting response... 200 OK\n",
            "Length: 89011 (87K) [text/csv]\n",
            "Saving to: ‘snakes_count_10000.csv’\n",
            "\n",
            "snakes_count_10000. 100%[===================>]  86.92K  --.-KB/s    in 0.06s   \n",
            "\n",
            "2024-11-28 16:34:06 (1.34 MB/s) - ‘snakes_count_10000.csv’ saved [89011/89011]\n",
            "\n"
          ]
        }
      ]
    },
    {
      "cell_type": "markdown",
      "source": [
        "## Consignas"
      ],
      "metadata": {
        "id": "06PQmTIdnprM"
      }
    },
    {
      "cell_type": "markdown",
      "source": [
        "¿Como luce la base de datos? Imprimirla.\n"
      ],
      "metadata": {
        "id": "WxEdqmEloQqT"
      }
    },
    {
      "cell_type": "code",
      "source": [
        "# me conecto a db y seteo el cursor\n",
        "conn = sqlite3.connect('db.db')\n",
        "cur = conn.cursor()\n",
        "# selecciono todo de t\n",
        "cur.execute(\"SELECT * FROM t;\")\n",
        "filas = cur.fetchall()\n",
        "# imprimo\n",
        "for fila in filas:\n",
        "  print(fila)\n",
        "conn.close()"
      ],
      "metadata": {
        "id": "0s8aBsoRoPtg",
        "colab": {
          "base_uri": "https://localhost:8080/",
          "height": 211
        },
        "outputId": "016ac127-69db-40c6-88b4-8f730f631d51"
      },
      "execution_count": null,
      "outputs": [
        {
          "output_type": "error",
          "ename": "NameError",
          "evalue": "name 'sqlite3' is not defined",
          "traceback": [
            "\u001b[0;31m---------------------------------------------------------------------------\u001b[0m",
            "\u001b[0;31mNameError\u001b[0m                                 Traceback (most recent call last)",
            "\u001b[0;32m<ipython-input-5-e7bde5dca523>\u001b[0m in \u001b[0;36m<cell line: 2>\u001b[0;34m()\u001b[0m\n\u001b[1;32m      1\u001b[0m \u001b[0;31m# me conecto a db y seteo el cursor\u001b[0m\u001b[0;34m\u001b[0m\u001b[0;34m\u001b[0m\u001b[0m\n\u001b[0;32m----> 2\u001b[0;31m \u001b[0mconn\u001b[0m \u001b[0;34m=\u001b[0m \u001b[0msqlite3\u001b[0m\u001b[0;34m.\u001b[0m\u001b[0mconnect\u001b[0m\u001b[0;34m(\u001b[0m\u001b[0;34m'db.db'\u001b[0m\u001b[0;34m)\u001b[0m\u001b[0;34m\u001b[0m\u001b[0;34m\u001b[0m\u001b[0m\n\u001b[0m\u001b[1;32m      3\u001b[0m \u001b[0mcur\u001b[0m \u001b[0;34m=\u001b[0m \u001b[0mconn\u001b[0m\u001b[0;34m.\u001b[0m\u001b[0mcursor\u001b[0m\u001b[0;34m(\u001b[0m\u001b[0;34m)\u001b[0m\u001b[0;34m\u001b[0m\u001b[0;34m\u001b[0m\u001b[0m\n\u001b[1;32m      4\u001b[0m \u001b[0;31m# selecciono todo de t\u001b[0m\u001b[0;34m\u001b[0m\u001b[0;34m\u001b[0m\u001b[0m\n\u001b[1;32m      5\u001b[0m \u001b[0mcur\u001b[0m\u001b[0;34m.\u001b[0m\u001b[0mexecute\u001b[0m\u001b[0;34m(\u001b[0m\u001b[0;34m\"SELECT * FROM t;\"\u001b[0m\u001b[0;34m)\u001b[0m\u001b[0;34m\u001b[0m\u001b[0;34m\u001b[0m\u001b[0m\n",
            "\u001b[0;31mNameError\u001b[0m: name 'sqlite3' is not defined"
          ]
        }
      ]
    },
    {
      "cell_type": "markdown",
      "source": [
        "¿Cuantas filas hay en la base de datos?"
      ],
      "metadata": {
        "id": "PKbtk_Krn6gn"
      }
    },
    {
      "cell_type": "code",
      "source": [
        "# me conecto a db y seteo el cursor\n",
        "conn = sqlite3.connect('db.db')\n",
        "cur = conn.cursor()\n",
        "\n",
        "# selecciono la cantidad de t\n",
        "cur.execute(\"SELECT COUNT(*) FROM t;\")\n",
        "cantidad = cur.fetchone()[0]\n",
        "print(cantidad)\n",
        "\n",
        "conn.close()"
      ],
      "metadata": {
        "id": "PiaQsgBrn6Fv",
        "colab": {
          "base_uri": "https://localhost:8080/",
          "height": 211
        },
        "outputId": "92d083d6-7b63-431c-c26f-4a959a91a6c0"
      },
      "execution_count": null,
      "outputs": [
        {
          "output_type": "error",
          "ename": "NameError",
          "evalue": "name 'sqlite3' is not defined",
          "traceback": [
            "\u001b[0;31m---------------------------------------------------------------------------\u001b[0m",
            "\u001b[0;31mNameError\u001b[0m                                 Traceback (most recent call last)",
            "\u001b[0;32m<ipython-input-4-4fc7bd78e7f5>\u001b[0m in \u001b[0;36m<cell line: 2>\u001b[0;34m()\u001b[0m\n\u001b[1;32m      1\u001b[0m \u001b[0;31m# me conecto a db y seteo el cursor\u001b[0m\u001b[0;34m\u001b[0m\u001b[0;34m\u001b[0m\u001b[0m\n\u001b[0;32m----> 2\u001b[0;31m \u001b[0mconn\u001b[0m \u001b[0;34m=\u001b[0m \u001b[0msqlite3\u001b[0m\u001b[0;34m.\u001b[0m\u001b[0mconnect\u001b[0m\u001b[0;34m(\u001b[0m\u001b[0;34m'db.db'\u001b[0m\u001b[0;34m)\u001b[0m\u001b[0;34m\u001b[0m\u001b[0;34m\u001b[0m\u001b[0m\n\u001b[0m\u001b[1;32m      3\u001b[0m \u001b[0mcur\u001b[0m \u001b[0;34m=\u001b[0m \u001b[0mconn\u001b[0m\u001b[0;34m.\u001b[0m\u001b[0mcursor\u001b[0m\u001b[0;34m(\u001b[0m\u001b[0;34m)\u001b[0m\u001b[0;34m\u001b[0m\u001b[0;34m\u001b[0m\u001b[0m\n\u001b[1;32m      4\u001b[0m \u001b[0;34m\u001b[0m\u001b[0m\n\u001b[1;32m      5\u001b[0m \u001b[0;31m# selecciono la cantidad de t\u001b[0m\u001b[0;34m\u001b[0m\u001b[0;34m\u001b[0m\u001b[0m\n",
            "\u001b[0;31mNameError\u001b[0m: name 'sqlite3' is not defined"
          ]
        }
      ]
    },
    {
      "cell_type": "markdown",
      "source": [
        "¿Cual es el máximo `GameLength` y en qué `GameNumber` se realizó?"
      ],
      "metadata": {
        "id": "Nj7MHOItoFMk"
      }
    },
    {
      "cell_type": "code",
      "source": [
        "# los valores en la base de datos estan en formato str\n",
        "# primero tengo que convertirlos a int\n",
        "\n",
        "conn = sqlite3.connect('db.db')\n",
        "cur = conn.cursor()\n",
        "\n",
        "cur.execute(\"UPDATE t SET GameLength = CAST(GameLength AS INTEGER);\")\n",
        "\n",
        "#guardo los cambios\n",
        "conn.commit()\n",
        "\n",
        "conn.close()"
      ],
      "metadata": {
        "id": "_5jLvBsjoFmc",
        "colab": {
          "base_uri": "https://localhost:8080/",
          "height": 211
        },
        "outputId": "ddf05594-92fc-40b0-a2e4-f612997e6bce"
      },
      "execution_count": null,
      "outputs": [
        {
          "output_type": "error",
          "ename": "NameError",
          "evalue": "name 'sqlite3' is not defined",
          "traceback": [
            "\u001b[0;31m---------------------------------------------------------------------------\u001b[0m",
            "\u001b[0;31mNameError\u001b[0m                                 Traceback (most recent call last)",
            "\u001b[0;32m<ipython-input-3-b0f1a4683064>\u001b[0m in \u001b[0;36m<cell line: 4>\u001b[0;34m()\u001b[0m\n\u001b[1;32m      2\u001b[0m \u001b[0;31m# primero tengo que convertirlos a int\u001b[0m\u001b[0;34m\u001b[0m\u001b[0;34m\u001b[0m\u001b[0m\n\u001b[1;32m      3\u001b[0m \u001b[0;34m\u001b[0m\u001b[0m\n\u001b[0;32m----> 4\u001b[0;31m \u001b[0mconn\u001b[0m \u001b[0;34m=\u001b[0m \u001b[0msqlite3\u001b[0m\u001b[0;34m.\u001b[0m\u001b[0mconnect\u001b[0m\u001b[0;34m(\u001b[0m\u001b[0;34m'db.db'\u001b[0m\u001b[0;34m)\u001b[0m\u001b[0;34m\u001b[0m\u001b[0;34m\u001b[0m\u001b[0m\n\u001b[0m\u001b[1;32m      5\u001b[0m \u001b[0mcur\u001b[0m \u001b[0;34m=\u001b[0m \u001b[0mconn\u001b[0m\u001b[0;34m.\u001b[0m\u001b[0mcursor\u001b[0m\u001b[0;34m(\u001b[0m\u001b[0;34m)\u001b[0m\u001b[0;34m\u001b[0m\u001b[0;34m\u001b[0m\u001b[0m\n\u001b[1;32m      6\u001b[0m \u001b[0;34m\u001b[0m\u001b[0m\n",
            "\u001b[0;31mNameError\u001b[0m: name 'sqlite3' is not defined"
          ]
        }
      ]
    },
    {
      "cell_type": "markdown",
      "source": [
        "# API Requests\n",
        "Por lo general, conseguimos datos a traves de internet. Aunque el concepto de Application Programming Interface (API) es muy amplio y muy poco concreto, en el contexto de los servidores, es un conjunto de 'endpoints' que los servidores ofrecen para poder leer/procesar/escribir información en estos mismos.\n",
        "\n",
        "[En este repositorio](https://github.com/public-apis/public-apis) van a encontrar una lista de APIs públicas (pueden elegir otras que no son de ese repositorio). Para la consigna, se recomienda usar aquellas APIs que no requieren autenticación. Si se elige una API con autenticación, por favor, adjuntar las keys o pasarl las credenciales necesarias para su futura ejecución También, pueden usar varias URLs."
      ],
      "metadata": {
        "id": "T2RSUVCvoxT4"
      }
    },
    {
      "cell_type": "markdown",
      "source": [
        "## Consigna"
      ],
      "metadata": {
        "id": "jkYYyfAbzUb1"
      }
    },
    {
      "cell_type": "markdown",
      "source": [
        "Hacer una request GET e imprimir uno de los campos de la respuesta:"
      ],
      "metadata": {
        "id": "aHJRrt9AzeaA"
      }
    },
    {
      "cell_type": "code",
      "source": [
        "import requests\n",
        "\n",
        "\n",
        "api = \"https://uselessfacts.jsph.pl/api/v2/facts/random?language=en\"\n",
        "\n",
        "solicitud = requests.get(api)\n",
        "\n",
        "if solicitud.status_code == 200:\n",
        "    data = solicitud.json()\n",
        "\n",
        "    for llave in data:\n",
        "      print(llave,':', data[llave])\n",
        "else:\n",
        "    print(\"Error. No se puede acceder a la API:\", solicitud.status_code)\n",
        "print(\"----------------------------------------------------\")\n",
        "fact = data.get(\"text\")\n",
        "print(\"Useles fact:\", fact)"
      ],
      "metadata": {
        "id": "MJt0d2WuzbOD",
        "colab": {
          "base_uri": "https://localhost:8080/"
        },
        "outputId": "1ccf79db-1c21-4f92-8729-23e8736db563"
      },
      "execution_count": null,
      "outputs": [
        {
          "output_type": "stream",
          "name": "stdout",
          "text": [
            "id : 6e12cb26f227e31f849c73be00c6ded1\n",
            "text : You burn more calories sleeping than you do watching TV.\n",
            "source : djtech.net\n",
            "source_url : http://www.djtech.net/humor/useless_facts.htm\n",
            "language : en\n",
            "permalink : https://uselessfacts.jsph.pl/api/v2/facts/6e12cb26f227e31f849c73be00c6ded1\n",
            "----------------------------------------------------\n",
            "Useles fact: You burn more calories sleeping than you do watching TV.\n"
          ]
        }
      ]
    },
    {
      "cell_type": "markdown",
      "source": [
        "Hacer una request GET y, apartir de los campos en la respuesta, generar otro campo (por ejemplo, si la respuesta solo incluye un timestamp y una posición del registro, elaborar la velocidad del registro)"
      ],
      "metadata": {
        "id": "bmLeZSJKzq2e"
      }
    },
    {
      "cell_type": "code",
      "source": [
        "api = \"https://uselessfacts.jsph.pl/api/v2/facts/random?language=en\"\n",
        "\n",
        "solicitud = requests.get(api)\n",
        "\n",
        "if solicitud.status_code == 200:\n",
        "    data = solicitud.json()\n",
        "\n",
        "    fact = data.get(\"text\")\n",
        "    print(\"Useless fact:\", fact)\n",
        "    print(\"----------------------------------------------------\")\n",
        "    print(\"La cantidad de palabras:\",len(fact.split()))\n",
        "\n",
        "else:\n",
        "    print(\"Error. No se puede acceder a la API:\", solicitud.status_code)"
      ],
      "metadata": {
        "id": "j0higEc9zn3y",
        "colab": {
          "base_uri": "https://localhost:8080/"
        },
        "outputId": "747c0677-62f9-4ade-d5c9-acffebfcc747"
      },
      "execution_count": null,
      "outputs": [
        {
          "output_type": "stream",
          "name": "stdout",
          "text": [
            "Useless fact: It has been estimated that humans use only 10% of their brain.\n",
            "----------------------------------------------------\n",
            "La cantidad de palabras: 12\n"
          ]
        }
      ]
    },
    {
      "cell_type": "markdown",
      "source": [
        "# Streaming data\n",
        "Ahora vamos a hacer algo muy parecido a lo anterior, pero vamos a usar APIs que nos ofrecen datos en tiempo real. Pueden encontrar APIs de este estilo [en este repositorio](https://github.com/ColinEberhardt/awesome-public-streaming-datasets) (pueden elegir otras que no son de ese repositorio)"
      ],
      "metadata": {
        "id": "pEHxdsKh4atw"
      }
    },
    {
      "cell_type": "markdown",
      "source": [
        "## Consigna"
      ],
      "metadata": {
        "id": "EB8_JQfw4iJ5"
      }
    },
    {
      "cell_type": "markdown",
      "source": [
        "Hacer un plot con `matplotlib` de una variable de una API de datos streaming en el que el eje 'y' sea la variable y el eje 'x' el tiempo."
      ],
      "metadata": {
        "id": "S-FNfnOT4reQ"
      }
    },
    {
      "cell_type": "code",
      "source": [
        "import requests\n",
        "import matplotlib.pyplot as plt\n",
        "from datetime import datetime\n",
        "\n",
        "# precio de bitcoin en dolares la maxima cantidad de dias\n",
        "def precio_bitcoin():\n",
        "    url = \"https://api.coingecko.com/api/v3/coins/bitcoin/market_chart\"\n",
        "    params = {\"vs_currency\": \"usd\", \"days\": 90}\n",
        "    response = requests.get(url, params=params)\n",
        "    if response.status_code == 200:\n",
        "        return response.json()\n",
        "    else:\n",
        "        print(f\"Error: {response.status_code} - {response.text}\")\n",
        "        return None\n",
        "\n",
        "plt.figure(figsize=(16, 6))\n",
        "data = precio_bitcoin()\n",
        "if data:\n",
        "  prices = data[\"prices\"]\n",
        "  times = [datetime.utcfromtimestamp(price[0] / 1000).strftime(\"%Y-%m-%d\") for price in prices]\n",
        "  values = [price[1] for price in prices]\n",
        "  plt.plot(times, values, label=\"Bitcoin (USD)\", color=\"orange\")\n",
        "\n",
        "\n",
        "plt.title(\"Precio de Bitcoin\")\n",
        "plt.xlabel(\"Fecha\")\n",
        "plt.ylabel(\"Precio (USD)\")\n",
        "plt.xticks(rotation=90)\n",
        "plt.yticks(fontsize=10)\n",
        "plt.legend(fontsize=10)\n",
        "plt.grid(True, alpha=0.7)\n",
        "plt.tight_layout()\n",
        "plt.show()"
      ],
      "metadata": {
        "id": "CYNfr1uH4aQm",
        "outputId": "d2b2a4ba-61f6-4c92-e344-3a89b818b39f",
        "colab": {
          "base_uri": "https://localhost:8080/",
          "height": 607
        }
      },
      "execution_count": null,
      "outputs": [
        {
          "output_type": "display_data",
          "data": {
            "text/plain": [
              "<Figure size 1600x600 with 1 Axes>"
            ],
            "image/png": "[encoded data removed]"
          },
          "metadata": {}
        }
      ]
    }
  ]
}