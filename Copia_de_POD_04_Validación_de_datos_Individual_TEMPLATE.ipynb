{
  "nbformat": 4,
  "nbformat_minor": 0,
  "metadata": {
    "colab": {
      "provenance": [],
      "include_colab_link": true
    },
    "kernelspec": {
      "name": "python3",
      "display_name": "Python 3"
    },
    "language_info": {
      "name": "python"
    }
  },
  "cells": [
    {
      "cell_type": "markdown",
      "metadata": {
        "id": "view-in-github",
        "colab_type": "text"
      },
      "source": [
        "<a href=\"https://colab.research.google.com/github/nicolasbini/tps-pod-nico-bini/blob/main/Copia_de_POD_04_Validaci%C3%B3n_de_datos_Individual_TEMPLATE.ipynb\" target=\"_parent\"><img src=\"https://colab.research.google.com/assets/colab-badge.svg\" alt=\"Open In Colab\"/></a>"
      ]
    },
    {
      "cell_type": "markdown",
      "source": [
        "*   **Año:** [2024]\n",
        "*   **Alumno/a:** [Nicolas Bini]\n",
        "*   **Legajo:** [LEGAJO]"
      ],
      "metadata": {
        "id": "UwxQU5JCF33j"
      }
    },
    {
      "cell_type": "markdown",
      "source": [
        "# Pydantic\n",
        "Pydantic es una libreria rapida y extensible que nos permite validar datos usando tipos de datos de Python.\n"
      ],
      "metadata": {
        "id": "8ec8DQdbWQfC"
      }
    },
    {
      "cell_type": "markdown",
      "source": [
        "Primero, importe `pydantic`."
      ],
      "metadata": {
        "id": "uF01w4AQcrtV"
      }
    },
    {
      "cell_type": "code",
      "source": [
        "import pydantic"
      ],
      "metadata": {
        "id": "4WPUcwU_c5n2"
      },
      "execution_count": null,
      "outputs": []
    },
    {
      "cell_type": "markdown",
      "source": [
        "Supongamos que tenemos una lista de clientes (llamemoslo en el codigo `Client`). Los clientes tienen dos campos: DNI (un entero) y nacionalidad (un `string`). Cree el modelo base de `Client` (en forma de clases de Python)."
      ],
      "metadata": {
        "id": "eC8fpbQ04GzX"
      }
    },
    {
      "cell_type": "code",
      "source": [
        "from pydantic import BaseModel\n",
        "class Client(BaseModel):\n",
        "  dni: int\n",
        "  nacionalidad: str"
      ],
      "metadata": {
        "id": "I4zJ7s_k4GkI"
      },
      "execution_count": null,
      "outputs": []
    },
    {
      "cell_type": "markdown",
      "source": [
        "Cree a un usuario con documento 39.755.010 y nacionalidad 'Argentina'. Muestre todos sus campos."
      ],
      "metadata": {
        "id": "zas-XX4r4SeP"
      }
    },
    {
      "cell_type": "code",
      "source": [
        "usuario = Client(dni=39755010, nacionalidad='Argentina')\n",
        "print(usuario)"
      ],
      "metadata": {
        "id": "_DhtCWhr4ST9",
        "outputId": "53fa04a9-9855-407b-de0b-984b6703cd52",
        "colab": {
          "base_uri": "https://localhost:8080/"
        }
      },
      "execution_count": null,
      "outputs": [
        {
          "output_type": "stream",
          "name": "stdout",
          "text": [
            "dni=39755010 nacionalidad='Argentina'\n"
          ]
        }
      ]
    },
    {
      "cell_type": "markdown",
      "source": [
        "Intente crear al usuario con un documento en forma de `string`. Deberia fallar..."
      ],
      "metadata": {
        "id": "ejbn5RSH4S_W"
      }
    },
    {
      "cell_type": "code",
      "source": [
        "nuevo_usuario = Client(dni='12412', nacionalidad='Argentina')\n",
        "#nuevo_usuario = Client(dni='hola', nacionalidad='Argentina')\n",
        "\n",
        "# falla solo en el caso cuando el dni es exlicitamente un str que tiene letras\n",
        "# si el str consiste de numeros hace la convercion a int\n",
        "\n",
        "print(nuevo_usuario)"
      ],
      "metadata": {
        "id": "OMPq8C1C4Su3",
        "outputId": "959a3872-6a76-4779-eeee-2bd970147a69",
        "colab": {
          "base_uri": "https://localhost:8080/"
        }
      },
      "execution_count": null,
      "outputs": [
        {
          "output_type": "stream",
          "name": "stdout",
          "text": [
            "dni=12412 nacionalidad='Argentina'\n"
          ]
        }
      ]
    },
    {
      "cell_type": "markdown",
      "source": [
        "Hemos detectado que ciertos clientes tienen nacionalidades que no existen. Ademas, hay numeros de documento negativos y se tiene que poder agregar la fecha de registro de los clientes (que no pueden ser del futuro). Cambiar la definicion del cliente para que estas cosas no ocurran. Despues de la siguiente celda, cree otras 3 mas probando un caso donde deberia funcionar y otros dos en los que no."
      ],
      "metadata": {
        "id": "jARZRMfe6MPE"
      }
    },
    {
      "cell_type": "code",
      "source": [
        "from pydantic import BaseModel, validator, ValidationError\n",
        "from datetime import datetime # para usar datetime\n",
        "# nacionalidad inexistente\n",
        "# dni negativos\n",
        "# poder agregar la fecha del registro < fecha de hoy\n",
        "\n",
        "\n",
        "lista_nacionalidades = ['Argentina',\n",
        "                        'Chile',\n",
        "                        'Uruguay',\n",
        "                        'Paraguay',\n",
        "                        'Bolivia',\n",
        "                        'Peru',\n",
        "                        'Colombia',\n",
        "                        'Venezuela',\n",
        "                        'Ecuador',\n",
        "                        'Guyana',\n",
        "                        'Suriname',\n",
        "                        'Francia']\n",
        "\n",
        "class Client(BaseModel):\n",
        "  dni: int\n",
        "  nacionalidad: str\n",
        "  fecha_registro: datetime\n",
        "\n",
        "  @validator('nacionalidad')\n",
        "  def validar_nacionalidad(cls, valor): #se usa 'cls' en vez de 'self' en pydantic\n",
        "    if valor not in lista_nacionalidades:\n",
        "      raise ValueError('Nacionalidad no esta en la lista de nacionalidades')\n",
        "    return valor\n",
        "\n",
        "  @validator('dni')\n",
        "  def validar_dni(cls, valor):\n",
        "    if valor < 0:\n",
        "      raise ValueError('DNI no puede ser negativo')\n",
        "    return valor\n",
        "\n",
        "  @validator('fecha_registro')\n",
        "  def validar_fecha_registro(cls, valor):\n",
        "    if valor > datetime.now():\n",
        "      raise ValueError('Fecha de registro no puede ser en el futuro')\n",
        "    return valor"
      ],
      "metadata": {
        "id": "JWsWZZPH6NFv",
        "outputId": "540358b1-17d2-4b09-faad-60f07f57ac1d",
        "colab": {
          "base_uri": "https://localhost:8080/"
        }
      },
      "execution_count": null,
      "outputs": [
        {
          "output_type": "stream",
          "name": "stderr",
          "text": [
            "<ipython-input-5-b2af0abcd0f8>:26: PydanticDeprecatedSince20: Pydantic V1 style `@validator` validators are deprecated. You should migrate to Pydantic V2 style `@field_validator` validators, see the migration guide for more details. Deprecated in Pydantic V2.0 to be removed in V3.0. See Pydantic V2 Migration Guide at https://errors.pydantic.dev/2.9/migration/\n",
            "  @validator('nacionalidad')\n",
            "<ipython-input-5-b2af0abcd0f8>:32: PydanticDeprecatedSince20: Pydantic V1 style `@validator` validators are deprecated. You should migrate to Pydantic V2 style `@field_validator` validators, see the migration guide for more details. Deprecated in Pydantic V2.0 to be removed in V3.0. See Pydantic V2 Migration Guide at https://errors.pydantic.dev/2.9/migration/\n",
            "  @validator('dni')\n",
            "<ipython-input-5-b2af0abcd0f8>:38: PydanticDeprecatedSince20: Pydantic V1 style `@validator` validators are deprecated. You should migrate to Pydantic V2 style `@field_validator` validators, see the migration guide for more details. Deprecated in Pydantic V2.0 to be removed in V3.0. See Pydantic V2 Migration Guide at https://errors.pydantic.dev/2.9/migration/\n",
            "  @validator('fecha_registro')\n"
          ]
        }
      ]
    },
    {
      "cell_type": "code",
      "source": [
        "# nacionalidad que no esta en la lista\n",
        "usuario = Client(dni=39755010, nacionalidad='Mexico', fecha_registro=datetime.now())"
      ],
      "metadata": {
        "id": "sWyLaqoC7QUK",
        "outputId": "db416cd5-e099-45fd-a804-5e7b69cb1f28",
        "colab": {
          "base_uri": "https://localhost:8080/",
          "height": 332
        }
      },
      "execution_count": null,
      "outputs": [
        {
          "output_type": "error",
          "ename": "ValidationError",
          "evalue": "1 validation error for Client\nnacionalidad\n  Value error, Nacionalidad no esta en la lista de nacionalidades [type=value_error, input_value='Mexico', input_type=str]\n    For further information visit https://errors.pydantic.dev/2.9/v/value_error",
          "traceback": [
            "\u001b[0;31m---------------------------------------------------------------------------\u001b[0m",
            "\u001b[0;31mValidationError\u001b[0m                           Traceback (most recent call last)",
            "\u001b[0;32m<ipython-input-6-8edcc9bb559b>\u001b[0m in \u001b[0;36m<cell line: 2>\u001b[0;34m()\u001b[0m\n\u001b[1;32m      1\u001b[0m \u001b[0;31m# nacionalidad que no esta en la lista\u001b[0m\u001b[0;34m\u001b[0m\u001b[0;34m\u001b[0m\u001b[0m\n\u001b[0;32m----> 2\u001b[0;31m \u001b[0musuario\u001b[0m \u001b[0;34m=\u001b[0m \u001b[0mClient\u001b[0m\u001b[0;34m(\u001b[0m\u001b[0mdni\u001b[0m\u001b[0;34m=\u001b[0m\u001b[0;36m39755010\u001b[0m\u001b[0;34m,\u001b[0m \u001b[0mnacionalidad\u001b[0m\u001b[0;34m=\u001b[0m\u001b[0;34m'Mexico'\u001b[0m\u001b[0;34m,\u001b[0m \u001b[0mfecha_registro\u001b[0m\u001b[0;34m=\u001b[0m\u001b[0mdatetime\u001b[0m\u001b[0;34m.\u001b[0m\u001b[0mnow\u001b[0m\u001b[0;34m(\u001b[0m\u001b[0;34m)\u001b[0m\u001b[0;34m)\u001b[0m\u001b[0;34m\u001b[0m\u001b[0;34m\u001b[0m\u001b[0m\n\u001b[0m",
            "\u001b[0;32m/usr/local/lib/python3.10/dist-packages/pydantic/main.py\u001b[0m in \u001b[0;36m__init__\u001b[0;34m(self, **data)\u001b[0m\n\u001b[1;32m    210\u001b[0m         \u001b[0;31m# `__tracebackhide__` tells pytest and some other tools to omit this function from tracebacks\u001b[0m\u001b[0;34m\u001b[0m\u001b[0;34m\u001b[0m\u001b[0m\n\u001b[1;32m    211\u001b[0m         \u001b[0m__tracebackhide__\u001b[0m \u001b[0;34m=\u001b[0m \u001b[0;32mTrue\u001b[0m\u001b[0;34m\u001b[0m\u001b[0;34m\u001b[0m\u001b[0m\n\u001b[0;32m--> 212\u001b[0;31m         \u001b[0mvalidated_self\u001b[0m \u001b[0;34m=\u001b[0m \u001b[0mself\u001b[0m\u001b[0;34m.\u001b[0m\u001b[0m__pydantic_validator__\u001b[0m\u001b[0;34m.\u001b[0m\u001b[0mvalidate_python\u001b[0m\u001b[0;34m(\u001b[0m\u001b[0mdata\u001b[0m\u001b[0;34m,\u001b[0m \u001b[0mself_instance\u001b[0m\u001b[0;34m=\u001b[0m\u001b[0mself\u001b[0m\u001b[0;34m)\u001b[0m\u001b[0;34m\u001b[0m\u001b[0;34m\u001b[0m\u001b[0m\n\u001b[0m\u001b[1;32m    213\u001b[0m         \u001b[0;32mif\u001b[0m \u001b[0mself\u001b[0m \u001b[0;32mis\u001b[0m \u001b[0;32mnot\u001b[0m \u001b[0mvalidated_self\u001b[0m\u001b[0;34m:\u001b[0m\u001b[0;34m\u001b[0m\u001b[0;34m\u001b[0m\u001b[0m\n\u001b[1;32m    214\u001b[0m             warnings.warn(\n",
            "\u001b[0;31mValidationError\u001b[0m: 1 validation error for Client\nnacionalidad\n  Value error, Nacionalidad no esta en la lista de nacionalidades [type=value_error, input_value='Mexico', input_type=str]\n    For further information visit https://errors.pydantic.dev/2.9/v/value_error"
          ]
        }
      ]
    },
    {
      "cell_type": "code",
      "source": [
        "# dni negativo\n",
        "usuario = Client(dni=-39755010, nacionalidad='Argentina', fecha_registro=datetime.now())"
      ],
      "metadata": {
        "id": "E6h_7zb77QhN"
      },
      "execution_count": null,
      "outputs": []
    },
    {
      "cell_type": "code",
      "source": [
        "# nacionalidad que no esta en la lista\n",
        "usuario = Client(dni=39755010, nacionalidad='Argentina', fecha_registro='2030-01-05')"
      ],
      "metadata": {
        "id": "MtDGMxri7R_O"
      },
      "execution_count": null,
      "outputs": []
    },
    {
      "cell_type": "markdown",
      "source": [
        "# Pandera\n",
        "Hacer lo que se pidio en la ultima celda anterior, pero con Pandera."
      ],
      "metadata": {
        "id": "79P3MNuZ8-t3"
      }
    },
    {
      "cell_type": "code",
      "source": [
        "!pip install pandera"
      ],
      "metadata": {
        "id": "z3DJDdci8-BP",
        "outputId": "0c3beb37-34a2-4cbb-89c7-301adff17d6d",
        "colab": {
          "base_uri": "https://localhost:8080/"
        }
      },
      "execution_count": null,
      "outputs": [
        {
          "output_type": "stream",
          "name": "stdout",
          "text": [
            "Collecting pandera\n",
            "  Downloading pandera-0.21.0-py3-none-any.whl.metadata (15 kB)\n",
            "Collecting multimethod (from pandera)\n",
            "  Downloading multimethod-1.12-py3-none-any.whl.metadata (9.6 kB)\n",
            "Requirement already satisfied: numpy>=1.19.0 in /usr/local/lib/python3.10/dist-packages (from pandera) (1.26.4)\n",
            "Requirement already satisfied: packaging>=20.0 in /usr/local/lib/python3.10/dist-packages (from pandera) (24.2)\n",
            "Requirement already satisfied: pandas>=1.2.0 in /usr/local/lib/python3.10/dist-packages (from pandera) (2.2.2)\n",
            "Requirement already satisfied: pydantic in /usr/local/lib/python3.10/dist-packages (from pandera) (2.9.2)\n",
            "Requirement already satisfied: typeguard in /usr/local/lib/python3.10/dist-packages (from pandera) (4.4.1)\n",
            "Collecting typing-inspect>=0.6.0 (from pandera)\n",
            "  Downloading typing_inspect-0.9.0-py3-none-any.whl.metadata (1.5 kB)\n",
            "Requirement already satisfied: wrapt in /usr/local/lib/python3.10/dist-packages (from pandera) (1.16.0)\n",
            "Requirement already satisfied: python-dateutil>=2.8.2 in /usr/local/lib/python3.10/dist-packages (from pandas>=1.2.0->pandera) (2.8.2)\n",
            "Requirement already satisfied: pytz>=2020.1 in /usr/local/lib/python3.10/dist-packages (from pandas>=1.2.0->pandera) (2024.2)\n",
            "Requirement already satisfied: tzdata>=2022.7 in /usr/local/lib/python3.10/dist-packages (from pandas>=1.2.0->pandera) (2024.2)\n",
            "Collecting mypy-extensions>=0.3.0 (from typing-inspect>=0.6.0->pandera)\n",
            "  Downloading mypy_extensions-1.0.0-py3-none-any.whl.metadata (1.1 kB)\n",
            "Requirement already satisfied: typing-extensions>=3.7.4 in /usr/local/lib/python3.10/dist-packages (from typing-inspect>=0.6.0->pandera) (4.12.2)\n",
            "Requirement already satisfied: annotated-types>=0.6.0 in /usr/local/lib/python3.10/dist-packages (from pydantic->pandera) (0.7.0)\n",
            "Requirement already satisfied: pydantic-core==2.23.4 in /usr/local/lib/python3.10/dist-packages (from pydantic->pandera) (2.23.4)\n",
            "Requirement already satisfied: six>=1.5 in /usr/local/lib/python3.10/dist-packages (from python-dateutil>=2.8.2->pandas>=1.2.0->pandera) (1.16.0)\n",
            "Downloading pandera-0.21.0-py3-none-any.whl (261 kB)\n",
            "\u001b[2K   \u001b[90m━━━━━━━━━━━━━━━━━━━━━━━━━━━━━━━━━━━━━━━━\u001b[0m \u001b[32m261.0/261.0 kB\u001b[0m \u001b[31m15.2 MB/s\u001b[0m eta \u001b[36m0:00:00\u001b[0m\n",
            "\u001b[?25hDownloading typing_inspect-0.9.0-py3-none-any.whl (8.8 kB)\n",
            "Downloading multimethod-1.12-py3-none-any.whl (10 kB)\n",
            "Downloading mypy_extensions-1.0.0-py3-none-any.whl (4.7 kB)\n",
            "Installing collected packages: mypy-extensions, multimethod, typing-inspect, pandera\n",
            "Successfully installed multimethod-1.12 mypy-extensions-1.0.0 pandera-0.21.0 typing-inspect-0.9.0\n"
          ]
        }
      ]
    }
  ]
}