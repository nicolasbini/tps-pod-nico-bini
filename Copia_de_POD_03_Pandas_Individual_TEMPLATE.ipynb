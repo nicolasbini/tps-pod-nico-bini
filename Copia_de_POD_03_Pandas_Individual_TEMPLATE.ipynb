{
  "nbformat": 4,
  "nbformat_minor": 0,
  "metadata": {
    "colab": {
      "provenance": [],
      "collapsed_sections": [
        "8ec8DQdbWQfC",
        "uf4NRwyMCKbg"
      ],
      "include_colab_link": true
    },
    "kernelspec": {
      "name": "python3",
      "display_name": "Python 3"
    },
    "language_info": {
      "name": "python"
    }
  },
  "cells": [
    {
      "cell_type": "markdown",
      "metadata": {
        "id": "view-in-github",
        "colab_type": "text"
      },
      "source": [
        "<a href=\"https://colab.research.google.com/github/nicolasbini/tps-pod-nico-bini/blob/main/Copia_de_POD_03_Pandas_Individual_TEMPLATE.ipynb\" target=\"_parent\"><img src=\"https://colab.research.google.com/assets/colab-badge.svg\" alt=\"Open In Colab\"/></a>"
      ]
    },
    {
      "cell_type": "markdown",
      "source": [
        "*   **Año:** [2024]\n",
        "*   **Alumno/a:** [Nicolas Bini]\n",
        "*   **Legajo:** [LEGAJO]"
      ],
      "metadata": {
        "id": "UwxQU5JCF33j"
      }
    },
    {
      "cell_type": "markdown",
      "source": [
        "# Pandas\n",
        "A continuación, cada celda va a pedir algo distinto. Por favor, realizarlo con la menor cantidad de lineas posibles y con NumPy.\n"
      ],
      "metadata": {
        "id": "8ec8DQdbWQfC"
      }
    },
    {
      "cell_type": "markdown",
      "source": [
        "Importar `pandas` con el alias `pd` e imprimir la versión instalada."
      ],
      "metadata": {
        "id": "uF01w4AQcrtV"
      }
    },
    {
      "cell_type": "code",
      "source": [
        "import pandas as pd\n",
        "print(pd.__version__)"
      ],
      "metadata": {
        "id": "4WPUcwU_c5n2",
        "outputId": "ab8f79b3-7338-4669-99d6-d1edf27a0f5a",
        "colab": {
          "base_uri": "https://localhost:8080/"
        }
      },
      "execution_count": 1,
      "outputs": [
        {
          "output_type": "stream",
          "name": "stdout",
          "text": [
            "2.2.2\n"
          ]
        }
      ]
    },
    {
      "cell_type": "markdown",
      "source": [
        "Crear la siguiente tabla como un dataframe de Pandas donde cada linea represente un diccionario.\n",
        "\n",
        "| _Index_ | **nombre**       | **edad** | **dni**  |\n",
        "|---------|------------------|----------|----------|\n",
        "| 9       | Brown, James     | 43       | 30123444 |\n",
        "| 3       | Hamkel, Louis V. | 29       | 44555666 |\n",
        "| 7       | Baptista, Carlos | 28       | 43120111 |"
      ],
      "metadata": {
        "id": "eC8fpbQ04GzX"
      }
    },
    {
      "cell_type": "code",
      "source": [
        "data = [\n",
        "    {'Index': 9, 'nombre': 'Brown, James', 'edad': 43, 'dni': 30123444},\n",
        "    {'Index': 3, 'nombre': 'Hamkel, Louis V.', 'edad': 29, 'dni': 44555666},\n",
        "    {'Index': 7, 'nombre': 'Baptista, Carlos', 'edad': 28, 'dni': 43120111}\n",
        "]\n",
        "\n",
        "df = pd.DataFrame(data)\n",
        "# seteo la columna Index como el indice del data frame, sino genera su propio indice 0, 1, 2\n",
        "df.set_index('Index', inplace=True)\n",
        "print(df)"
      ],
      "metadata": {
        "id": "I4zJ7s_k4GkI",
        "outputId": "c80bbe5b-42f4-4863-c123-a241ebb0f846",
        "colab": {
          "base_uri": "https://localhost:8080/"
        }
      },
      "execution_count": null,
      "outputs": [
        {
          "output_type": "stream",
          "name": "stdout",
          "text": [
            "                 nombre  edad       dni\n",
            "Index                                  \n",
            "9          Brown, James    43  30123444\n",
            "3      Hamkel, Louis V.    29  44555666\n",
            "7      Baptista, Carlos    28  43120111\n"
          ]
        }
      ]
    },
    {
      "cell_type": "markdown",
      "source": [
        "Crear la siguiente tabla como un dataframe de Pandas donde todas las lineas esten dentro de un solo diccionario.\n",
        "\n",
        "| _Index_ | **nombre**       | **edad** | **dni**  |\n",
        "|---------|------------------|----------|----------|\n",
        "| 9       | Brown, James     | 43       | 30123444 |\n",
        "| 3       | Hamkel, Louis V. | 29       | 44555666 |\n",
        "| 7       | Baptista, Carlos | 28       | 43120111 |"
      ],
      "metadata": {
        "id": "zas-XX4r4SeP"
      }
    },
    {
      "cell_type": "code",
      "source": [
        "data = {\n",
        "    'Index': [9, 3, 7],\n",
        "    'nombre': ['Brown, James', 'Hamkel, Louis V.', 'Baptista, Carlos'],\n",
        "    'edad': [43, 29, 28],\n",
        "    'dni': [30123444, 44555666, 43120111]\n",
        "}\n",
        "\n",
        "df = pd.DataFrame(data)\n",
        "df.set_index('Index', inplace=True)\n",
        "print(df)"
      ],
      "metadata": {
        "id": "_DhtCWhr4ST9",
        "outputId": "b26cb617-7750-4644-8cae-da217717f34e",
        "colab": {
          "base_uri": "https://localhost:8080/"
        }
      },
      "execution_count": null,
      "outputs": [
        {
          "output_type": "stream",
          "name": "stdout",
          "text": [
            "                 nombre  edad       dni\n",
            "Index                                  \n",
            "9          Brown, James    43  30123444\n",
            "3      Hamkel, Louis V.    29  44555666\n",
            "7      Baptista, Carlos    28  43120111\n"
          ]
        }
      ]
    },
    {
      "cell_type": "markdown",
      "source": [
        "Crear la siguiente tabla como un dataframe de Pandas donde se usen unicamente listas.\n",
        "\n",
        "| _Index_ | **nombre**       | **edad** | **dni**  |\n",
        "|---------|------------------|----------|----------|\n",
        "| 9       | Brown, James     | 43       | 30123444 |\n",
        "| 3       | Hamkel, Louis V. | 29       | 44555666 |\n",
        "| 7       | Baptista, Carlos | 28       | 43120111 |"
      ],
      "metadata": {
        "id": "ejbn5RSH4S_W"
      }
    },
    {
      "cell_type": "code",
      "source": [
        "data = [\n",
        "    [9, 'Brown, James', 43, 30123444],\n",
        "    [3, 'Hamkel, Louis V.', 29, 44555666],\n",
        "    [7, 'Baptista, Carlos', 28, 43120111]\n",
        "]\n",
        "\n",
        "headers = ['Index', 'nombre', 'edad', 'dni']\n",
        "\n",
        "df = pd.DataFrame(data, columns=headers)\n",
        "df.set_index('Index', inplace=True)\n",
        "print(df)"
      ],
      "metadata": {
        "id": "OMPq8C1C4Su3",
        "outputId": "422dbea1-55a6-4591-8e66-5f8e1990c0dd",
        "colab": {
          "base_uri": "https://localhost:8080/"
        }
      },
      "execution_count": null,
      "outputs": [
        {
          "output_type": "stream",
          "name": "stdout",
          "text": [
            "                 nombre  edad       dni\n",
            "Index                                  \n",
            "9          Brown, James    43  30123444\n",
            "3      Hamkel, Louis V.    29  44555666\n",
            "7      Baptista, Carlos    28  43120111\n"
          ]
        }
      ]
    },
    {
      "cell_type": "markdown",
      "source": [
        "Crear la siguiente tabla como un dataframe de Pandas donde se usen unicamente `Series`.\n",
        "\n",
        "| _Index_ | **nombre**       | **edad** | **dni**  |\n",
        "|---------|------------------|----------|----------|\n",
        "| 9       | Brown, James     | 43       | 30123444 |\n",
        "| 3       | Hamkel, Louis V. | 29       | 44555666 |\n",
        "| 7       | Baptista, Carlos | 28       | 43120111 |"
      ],
      "metadata": {
        "id": "dVCeyowLEnJ1"
      }
    },
    {
      "cell_type": "code",
      "source": [
        "# cada serie representa una columna\n",
        "index = pd.Series([9, 3, 7], name='Index')\n",
        "nombre = pd.Series(['Brown, James', 'Hamkel, Louis V.', 'Baptista, Carlos'], name='nombre')\n",
        "edad = pd.Series([43, 29, 28], name='edad')\n",
        "dni = pd.Series([30123444, 44555666, 43120111], name='dni')\n",
        "\n",
        "df = pd.concat([index, nombre, edad, dni], axis = 1) #axis = 1 para que headers sean columnas del df\n",
        "df.set_index('Index', inplace=True)\n",
        "print(df)"
      ],
      "metadata": {
        "id": "lj0zQr7qEmzj",
        "outputId": "8df465de-b6e2-459b-8868-3eea83d7bbd2",
        "colab": {
          "base_uri": "https://localhost:8080/"
        }
      },
      "execution_count": null,
      "outputs": [
        {
          "output_type": "stream",
          "name": "stdout",
          "text": [
            "                 nombre  edad       dni\n",
            "Index                                  \n",
            "9          Brown, James    43  30123444\n",
            "3      Hamkel, Louis V.    29  44555666\n",
            "7      Baptista, Carlos    28  43120111\n"
          ]
        }
      ]
    },
    {
      "cell_type": "markdown",
      "source": [
        "Reutilice cualquiera de los dataframe hechos anteriormente pero agregue la columna `fecha` con el tipo de dato relacionado a fechas.\n",
        "\n",
        "| _Index_ | **nombre**       | **edad** | **dni**  | **fecha**  |\n",
        "|---------|------------------|----------|----------|------------|\n",
        "| 9       | Brown, James     | 43       | 30123444 | 12/08/1981 |\n",
        "| 3       | Hamkel, Louis V. | 29       | 44555666 | 10/04/1995 |\n",
        "| 7       | Baptista, Carlos | 28       | 43120111 | 28/05/1996 |"
      ],
      "metadata": {
        "id": "oP9dwhSLEnix"
      }
    },
    {
      "cell_type": "code",
      "source": [
        "# defino fechas en formato str\n",
        "fechas = pd.Series(['12/08/1981', '10/04/1995', '28/05/1996'], name='fecha')\n",
        "# hago la conversion a date\n",
        "df = pd.concat([index, nombre, edad, dni, fechas], axis = 1)\n",
        "df['fecha'] = pd.to_datetime(fechas, format = \"%d/%m/%Y\" ) #modifico el formato porque por default tiene format de estados unidos con el mes antes de dia\n",
        "print(df)"
      ],
      "metadata": {
        "id": "lt6ZjIgAFEpT"
      },
      "execution_count": null,
      "outputs": []
    },
    {
      "cell_type": "markdown",
      "source": [
        "Ejecute la siguiente celda. Se va a descargar un archivo llamado `u.user`."
      ],
      "metadata": {
        "id": "X6Y5smKMEn6w"
      }
    },
    {
      "cell_type": "code",
      "source": [
        "!wget https://raw.githubusercontent.com/justmarkham/DAT8/master/data/u.user"
      ],
      "metadata": {
        "id": "3v7G1jWs7rDg",
        "outputId": "d8a1df52-ffc3-4bff-98fb-1b5b67ceb0e6",
        "colab": {
          "base_uri": "https://localhost:8080/"
        }
      },
      "execution_count": null,
      "outputs": [
        {
          "output_type": "stream",
          "name": "stdout",
          "text": [
            "--2024-11-28 16:57:35--  https://raw.githubusercontent.com/justmarkham/DAT8/master/data/u.user\n",
            "Resolving raw.githubusercontent.com (raw.githubusercontent.com)... 185.199.108.133, 185.199.109.133, 185.199.110.133, ...\n",
            "Connecting to raw.githubusercontent.com (raw.githubusercontent.com)|185.199.108.133|:443... connected.\n",
            "HTTP request sent, awaiting response... 200 OK\n",
            "Length: 22667 (22K) [text/plain]\n",
            "Saving to: ‘u.user’\n",
            "\n",
            "\ru.user                0%[                    ]       0  --.-KB/s               \ru.user              100%[===================>]  22.14K  --.-KB/s    in 0.001s  \n",
            "\n",
            "2024-11-28 16:57:35 (14.9 MB/s) - ‘u.user’ saved [22667/22667]\n",
            "\n"
          ]
        }
      ]
    },
    {
      "cell_type": "markdown",
      "source": [
        "Lea el archivo con pandas y muestre las primeras 5 filas."
      ],
      "metadata": {
        "id": "-qRRF8T_72wD"
      }
    },
    {
      "cell_type": "code",
      "source": [
        "df = pd.read_csv('u.user')\n",
        "df = pd.read_csv('u.user', sep = '|')\n",
        "print(df.head()) #head imprime las primero 5 lineas"
      ],
      "metadata": {
        "id": "HlPu1a1sEohQ",
        "outputId": "db41cc77-b328-416b-95b8-31e10968b3f1",
        "colab": {
          "base_uri": "https://localhost:8080/"
        }
      },
      "execution_count": null,
      "outputs": [
        {
          "output_type": "stream",
          "name": "stdout",
          "text": [
            "   user_id  age gender  occupation zip_code\n",
            "0        1   24      M  technician    85711\n",
            "1        2   53      F       other    94043\n",
            "2        3   23      M      writer    32067\n",
            "3        4   24      M  technician    43537\n",
            "4        5   33      F       other    15213\n"
          ]
        }
      ]
    },
    {
      "cell_type": "markdown",
      "source": [
        "Utilice la columna `user_id` como indice y saque dicha columna del dataframe\n",
        "\n"
      ],
      "metadata": {
        "id": "LsqtwfYc8P6L"
      }
    },
    {
      "cell_type": "code",
      "source": [
        "df.set_index('user_id', inplace=True)\n",
        "print(df.head())"
      ],
      "metadata": {
        "id": "yQs0BtSF8PzU",
        "outputId": "579f2744-20d0-4074-d4a4-65e225a08af9",
        "colab": {
          "base_uri": "https://localhost:8080/"
        }
      },
      "execution_count": null,
      "outputs": [
        {
          "output_type": "stream",
          "name": "stdout",
          "text": [
            "         age gender  occupation zip_code\n",
            "user_id                                 \n",
            "1         24      M  technician    85711\n",
            "2         53      F       other    94043\n",
            "3         23      M      writer    32067\n",
            "4         24      M  technician    43537\n",
            "5         33      F       other    15213\n"
          ]
        }
      ]
    },
    {
      "cell_type": "markdown",
      "source": [
        "¿Cuantas categorias de trabajos hay?"
      ],
      "metadata": {
        "id": "_5Cld-VT8PsG"
      }
    },
    {
      "cell_type": "code",
      "source": [
        "trabajos = df['occupation'].unique()\n",
        "print(trabajos)\n",
        "print(len(trabajos))"
      ],
      "metadata": {
        "id": "TVeQ-jgZ8PlX",
        "outputId": "f453b0b1-f759-485c-b428-9a967b072435",
        "colab": {
          "base_uri": "https://localhost:8080/"
        }
      },
      "execution_count": null,
      "outputs": [
        {
          "output_type": "stream",
          "name": "stdout",
          "text": [
            "['technician' 'other' 'writer' 'executive' 'administrator' 'student'\n",
            " 'lawyer' 'educator' 'scientist' 'entertainment' 'programmer' 'librarian'\n",
            " 'homemaker' 'artist' 'engineer' 'marketing' 'none' 'healthcare' 'retired'\n",
            " 'salesman' 'doctor']\n",
            "21\n"
          ]
        }
      ]
    },
    {
      "cell_type": "markdown",
      "source": [
        " Reporte el porcentaje de personas que tiene cada ocupación."
      ],
      "metadata": {
        "id": "suETYqm28Pba"
      }
    },
    {
      "cell_type": "code",
      "source": [
        "porcentaje = df['occupation'].value_counts(normalize=True) * 100\n",
        "print(porcentaje)\n",
        "#suma un poco mas de 100 por el redondeo\n",
        "print(sum(porcentaje))"
      ],
      "metadata": {
        "id": "mJFiaURH8PS4",
        "outputId": "2c357d4d-ed53-4ab0-e462-8019273f33e6",
        "colab": {
          "base_uri": "https://localhost:8080/"
        }
      },
      "execution_count": null,
      "outputs": [
        {
          "output_type": "stream",
          "name": "stdout",
          "text": [
            "occupation\n",
            "student          20.784730\n",
            "other            11.134677\n",
            "educator         10.074231\n",
            "administrator     8.377519\n",
            "engineer          7.104984\n",
            "programmer        6.998940\n",
            "librarian         5.408271\n",
            "writer            4.772004\n",
            "executive         3.393425\n",
            "scientist         3.287381\n",
            "artist            2.969247\n",
            "technician        2.863203\n",
            "marketing         2.757158\n",
            "entertainment     1.908802\n",
            "healthcare        1.696713\n",
            "retired           1.484624\n",
            "lawyer            1.272534\n",
            "salesman          1.272534\n",
            "none              0.954401\n",
            "homemaker         0.742312\n",
            "doctor            0.742312\n",
            "Name: proportion, dtype: float64\n",
            "100.00000000000001\n"
          ]
        }
      ]
    },
    {
      "cell_type": "markdown",
      "source": [
        "Reporte el promedio de edad de los estudiantes usando indexeo booleano."
      ],
      "metadata": {
        "id": "OqJ3ufrnEouE"
      }
    },
    {
      "cell_type": "code",
      "source": [
        "promedio = df[df['occupation'] == 'student']['age'].mean()\n",
        "print(round(promedio,2))"
      ],
      "metadata": {
        "id": "h9LdQIKZF5Y3",
        "outputId": "566425f5-ad3e-4997-8baf-a46b7d3fa7f9",
        "colab": {
          "base_uri": "https://localhost:8080/"
        }
      },
      "execution_count": null,
      "outputs": [
        {
          "output_type": "stream",
          "name": "stdout",
          "text": [
            "22.08\n"
          ]
        }
      ]
    },
    {
      "cell_type": "markdown",
      "source": [
        "Mostrar, con una sola linea y sin importar `matplotlib`, un histograma de las edades de las personas que son administradores."
      ],
      "metadata": {
        "id": "ECU9-LayF53z"
      }
    },
    {
      "cell_type": "code",
      "source": [
        "df[df['occupation'] == 'administrator']['age'].hist()\n",
        "print(df)"
      ],
      "metadata": {
        "id": "qOimVpu0F4el",
        "outputId": "9f53280d-9a02-4ce5-a9b5-fc47dbe3a7f1",
        "colab": {
          "base_uri": "https://localhost:8080/",
          "height": 690
        }
      },
      "execution_count": null,
      "outputs": [
        {
          "output_type": "stream",
          "name": "stdout",
          "text": [
            "         age gender     occupation zip_code\n",
            "user_id                                    \n",
            "1         24      M     technician    85711\n",
            "2         53      F          other    94043\n",
            "3         23      M         writer    32067\n",
            "4         24      M     technician    43537\n",
            "5         33      F          other    15213\n",
            "...      ...    ...            ...      ...\n",
            "939       26      F        student    33319\n",
            "940       32      M  administrator    02215\n",
            "941       20      M        student    97229\n",
            "942       48      F      librarian    78209\n",
            "943       22      M        student    77841\n",
            "\n",
            "[943 rows x 4 columns]\n"
          ]
        },
        {
          "output_type": "display_data",
          "data": {
            "text/plain": [
              "<Figure size 640x480 with 1 Axes>"
            ],
            "image/png": "[encoded data removed]"
          },
          "metadata": {}
        }
      ]
    },
    {
      "cell_type": "markdown",
      "source": [
        "Reemplace, sin usar `for`, en la columna `gender` `F` por `female` y `M` por `male`."
      ],
      "metadata": {
        "id": "mFzSH9D1QHM4"
      }
    },
    {
      "cell_type": "code",
      "source": [
        "df['gender'] = df['gender'].replace({'F': 'female', 'M': 'male'})\n",
        "print(df)"
      ],
      "metadata": {
        "id": "SZg2_4AJQHhr",
        "outputId": "c4eeed9c-03e1-4a2f-e3d5-58565c4ea90f",
        "colab": {
          "base_uri": "https://localhost:8080/"
        }
      },
      "execution_count": null,
      "outputs": [
        {
          "output_type": "stream",
          "name": "stdout",
          "text": [
            "         age  gender     occupation zip_code\n",
            "user_id                                     \n",
            "1         24    male     technician    85711\n",
            "2         53  female          other    94043\n",
            "3         23    male         writer    32067\n",
            "4         24    male     technician    43537\n",
            "5         33  female          other    15213\n",
            "...      ...     ...            ...      ...\n",
            "939       26  female        student    33319\n",
            "940       32    male  administrator    02215\n",
            "941       20    male        student    97229\n",
            "942       48  female      librarian    78209\n",
            "943       22    male        student    77841\n",
            "\n",
            "[943 rows x 4 columns]\n"
          ]
        }
      ]
    },
    {
      "cell_type": "code",
      "source": [],
      "metadata": {
        "id": "YdqRFIP430ib"
      },
      "execution_count": null,
      "outputs": []
    },
    {
      "cell_type": "markdown",
      "source": [
        "# Yahoo! Finance"
      ],
      "metadata": {
        "id": "x6s9aanXAp4G"
      }
    },
    {
      "cell_type": "markdown",
      "source": [
        "Vamos a analizar acciones. La siguiente linea accede a Yahoo Finance y devuelve un DataFrame con los valores de la acción cada dia desde el 1980."
      ],
      "metadata": {
        "id": "qqBxTaafArYH"
      }
    },
    {
      "cell_type": "code",
      "source": [
        "import yfinance as yf\n",
        "dataframe = yf.download('AAPL', start=\"1980-01-01\", end=\"2030-01-01\")"
      ],
      "metadata": {
        "id": "HWJ0fZbfApy6",
        "colab": {
          "base_uri": "https://localhost:8080/"
        },
        "outputId": "0affd65d-9514-45c0-b24b-d4ce60e1a704"
      },
      "execution_count": null,
      "outputs": [
        {
          "output_type": "stream",
          "name": "stderr",
          "text": [
            "\r[*********************100%***********************]  1 of 1 completed\n"
          ]
        }
      ]
    },
    {
      "cell_type": "markdown",
      "source": [
        "¿Cual es el registro mas viejo? Imprimirlo."
      ],
      "metadata": {
        "id": "ikpnKqnPApuG"
      }
    },
    {
      "cell_type": "code",
      "source": [
        "#print(dataframe)\n",
        "registro_antiguo = dataframe.iloc[0] #imprimo el primer registro por posicion del indice 0\n",
        "print(registro_antiguo)"
      ],
      "metadata": {
        "id": "e56tZ607Appx",
        "outputId": "961a9324-ff9b-4bd0-8039-1433457b0273",
        "colab": {
          "base_uri": "https://localhost:8080/"
        }
      },
      "execution_count": null,
      "outputs": [
        {
          "output_type": "stream",
          "name": "stdout",
          "text": [
            "Price      Ticker\n",
            "Adj Close  AAPL      9.883452e-02\n",
            "Close      AAPL      1.283480e-01\n",
            "High       AAPL      1.289060e-01\n",
            "Low        AAPL      1.283480e-01\n",
            "Open       AAPL      1.283480e-01\n",
            "Volume     AAPL      4.690336e+08\n",
            "Name: 1980-12-12 00:00:00+00:00, dtype: float64\n"
          ]
        }
      ]
    },
    {
      "cell_type": "markdown",
      "source": [
        "Cree la columna `Average` tal que\n",
        "\n",
        "$$Average =  \\frac{High-Low}{2}$$\n",
        "\n",
        "y muestre con un histograma dicha columna."
      ],
      "metadata": {
        "id": "EHHhUvUtApk0"
      }
    },
    {
      "cell_type": "code",
      "source": [
        "# asumo que la formula correcta es average = (High + Low)/2\n",
        "average = (dataframe['High'] + dataframe['Low'])/2\n",
        "dataframe['Average'] = average\n",
        "dataframe['Average'].hist()"
      ],
      "metadata": {
        "id": "-b9g66axApgL",
        "outputId": "ceed8ace-aa59-46e1-becc-03e636fb9673",
        "colab": {
          "base_uri": "https://localhost:8080/",
          "height": 447
        }
      },
      "execution_count": null,
      "outputs": [
        {
          "output_type": "execute_result",
          "data": {
            "text/plain": [
              "<Axes: >"
            ]
          },
          "metadata": {},
          "execution_count": 17
        },
        {
          "output_type": "display_data",
          "data": {
            "text/plain": [
              "<Figure size 640x480 with 1 Axes>"
            ],
            "image/png": "[encoded data removed]"
          },
          "metadata": {}
        }
      ]
    },
    {
      "cell_type": "markdown",
      "source": [
        "Con `matplotlib`, muestre como `Average` fue evolucionando *al final de cada año*."
      ],
      "metadata": {
        "id": "yeZWGXexApbb"
      }
    },
    {
      "cell_type": "code",
      "source": [
        "print(dataframe)"
      ],
      "metadata": {
        "id": "oeSb_UegApVZ",
        "outputId": "864aeda6-ccb8-4170-e9b0-900a6a4b9492",
        "colab": {
          "base_uri": "https://localhost:8080/"
        }
      },
      "execution_count": null,
      "outputs": [
        {
          "output_type": "stream",
          "name": "stdout",
          "text": [
            "Price                       Adj Close       Close        High         Low  \\\n",
            "Ticker                           AAPL        AAPL        AAPL        AAPL   \n",
            "Date                                                                        \n",
            "1980-12-12 00:00:00+00:00    0.098835    0.128348    0.128906    0.128348   \n",
            "1980-12-15 00:00:00+00:00    0.093678    0.121652    0.122210    0.121652   \n",
            "1980-12-16 00:00:00+00:00    0.086802    0.112723    0.113281    0.112723   \n",
            "1980-12-17 00:00:00+00:00    0.088951    0.115513    0.116071    0.115513   \n",
            "1980-12-18 00:00:00+00:00    0.091530    0.118862    0.119420    0.118862   \n",
            "...                               ...         ...         ...         ...   \n",
            "2024-11-21 00:00:00+00:00  228.520004  228.520004  230.160004  225.710007   \n",
            "2024-11-22 00:00:00+00:00  229.869995  229.869995  230.720001  228.059998   \n",
            "2024-11-25 00:00:00+00:00  232.869995  232.869995  233.250000  229.740005   \n",
            "2024-11-26 00:00:00+00:00  235.059998  235.059998  235.570007  233.330002   \n",
            "2024-11-27 00:00:00+00:00  234.929993  234.929993  235.690002  233.809998   \n",
            "\n",
            "Price                            Open     Volume     Average  \n",
            "Ticker                           AAPL       AAPL              \n",
            "Date                                                          \n",
            "1980-12-12 00:00:00+00:00    0.128348  469033600    0.128627  \n",
            "1980-12-15 00:00:00+00:00    0.122210  175884800    0.121931  \n",
            "1980-12-16 00:00:00+00:00    0.113281  105728000    0.113002  \n",
            "1980-12-17 00:00:00+00:00    0.115513   86441600    0.115792  \n",
            "1980-12-18 00:00:00+00:00    0.118862   73449600    0.119141  \n",
            "...                               ...        ...         ...  \n",
            "2024-11-21 00:00:00+00:00  228.880005   42108300  227.935005  \n",
            "2024-11-22 00:00:00+00:00  228.059998   38168300  229.389999  \n",
            "2024-11-25 00:00:00+00:00  231.460007   90152800  231.495003  \n",
            "2024-11-26 00:00:00+00:00  233.330002   45986200  234.450005  \n",
            "2024-11-27 00:00:00+00:00  234.470001   33475000  234.750000  \n",
            "\n",
            "[11083 rows x 7 columns]\n"
          ]
        }
      ]
    },
    {
      "cell_type": "markdown",
      "source": [
        "Muestre con un gráfico de barras, como el volumen fue cambiando *año a año*."
      ],
      "metadata": {
        "id": "K1UXxoawApPD"
      }
    },
    {
      "cell_type": "code",
      "source": [
        "import matplotlib.pyplot as plt\n",
        "\n",
        "#print(dataframe)\n",
        "#print(dataframe['Average'])\n",
        "\n",
        "data = dataframe[dataframe.index.month == 12]\n",
        "data = data[data.index.day == 31]\n",
        "#print(data)\n",
        "\n",
        "plt.figure(figsize = (15,5)) # dibujo el grafico ma largo\n",
        "plt.plot(data.index, data['Average'])\n",
        "plt.xlabel(\"Fecha\")\n",
        "plt.ylabel(\"Valor Promedio\")\n",
        "plt.grid(True)\n",
        "plt.show()"
      ],
      "metadata": {
        "id": "4OyausU5ApGJ",
        "outputId": "54bfa278-e128-4e2c-e596-aad9e46785c4",
        "colab": {
          "base_uri": "https://localhost:8080/",
          "height": 465
        }
      },
      "execution_count": null,
      "outputs": [
        {
          "output_type": "display_data",
          "data": {
            "text/plain": [
              "<Figure size 1500x500 with 1 Axes>"
            ],
            "image/png": "[encoded data removed]"
          },
          "metadata": {}
        }
      ]
    },
    {
      "cell_type": "markdown",
      "source": [
        "# Cancelaciones y Delays de vuelos del 2015"
      ],
      "metadata": {
        "id": "uf4NRwyMCKbg"
      }
    },
    {
      "cell_type": "markdown",
      "source": [
        "Creese una cuenta en Kaggle e importe los archivos del dataset del siguiente link: https://www.kaggle.com/datasets/usdot/flight-delays. Cree los dataframes `airlines`, `airports`, y `flights` apartir de esos archivos."
      ],
      "metadata": {
        "id": "RoYldCmDCKWJ"
      }
    },
    {
      "cell_type": "code",
      "source": [
        "#Escribir el codigo para responder la pregunta en esta celda"
      ],
      "metadata": {
        "id": "fSpwaXWzCKJ9"
      },
      "execution_count": null,
      "outputs": []
    },
    {
      "cell_type": "code",
      "source": [
        "# cargo un archivo .json con username y key de usuario de kaggle\n",
        "\n",
        "# para poder acceder a los datasets directamente desde colab se necesita la cuenta\n",
        "# de kaggle y el api (con token autorizado)\n",
        "\n",
        "# este se puede crear en kaggle.com > ajustes de cuenta (account) > API > Create New Token\n",
        "# que descarga un archivo .json de sigiente contenido (ejemplo)\n",
        "# {\"username\":\"nombre_random\",\"key\":\"cb7r32ryb327nyrx9823ry932n\"}\n",
        "\n",
        "# cargo este archivo .json a colab\n",
        "from google.colab import files\n",
        "files.upload()"
      ],
      "metadata": {
        "id": "pRwfZBNKEFwo",
        "outputId": "9ccc7c0e-0613-4e42-b5ae-c62769c2ed32",
        "colab": {
          "base_uri": "https://localhost:8080/",
          "height": 55
        }
      },
      "execution_count": null,
      "outputs": [
        {
          "output_type": "display_data",
          "data": {
            "text/plain": [
              "<IPython.core.display.HTML object>"
            ],
            "text/html": [
              "\n",
              "     <input type=\"file\" id=\"files-2705ea47-ca25-4614-8fb1-c3157783d426\" name=\"files[]\" multiple disabled\n",
              "        style=\"border:none\" />\n",
              "     <output id=\"result-2705ea47-ca25-4614-8fb1-c3157783d426\">\n",
              "      Upload widget is only available when the cell has been executed in the\n",
              "      current browser session. Please rerun this cell to enable.\n",
              "      </output>\n",
              "      <script>// Copyright 2017 Google LLC\n",
              "//\n",
              "// Licensed under the Apache License, Version 2.0 (the \"License\");\n",
              "// you may not use this file except in compliance with the License.\n",
              "// You may obtain a copy of the License at\n",
              "//\n",
              "//      http://www.apache.org/licenses/LICENSE-2.0\n",
              "//\n",
              "// Unless required by applicable law or agreed to in writing, software\n",
              "// distributed under the License is distributed on an \"AS IS\" BASIS,\n",
              "// WITHOUT WARRANTIES OR CONDITIONS OF ANY KIND, either express or implied.\n",
              "// See the License for the specific language governing permissions and\n",
              "// limitations under the License.\n",
              "\n",
              "/**\n",
              " * @fileoverview Helpers for google.colab Python module.\n",
              " */\n",
              "(function(scope) {\n",
              "function span(text, styleAttributes = {}) {\n",
              "  const element = document.createElement('span');\n",
              "  element.textContent = text;\n",
              "  for (const key of Object.keys(styleAttributes)) {\n",
              "    element.style[key] = styleAttributes[key];\n",
              "  }\n",
              "  return element;\n",
              "}\n",
              "\n",
              "// Max number of bytes which will be uploaded at a time.\n",
              "const MAX_PAYLOAD_SIZE = 100 * 1024;\n",
              "\n",
              "function _uploadFiles(inputId, outputId) {\n",
              "  const steps = uploadFilesStep(inputId, outputId);\n",
              "  const outputElement = document.getElementById(outputId);\n",
              "  // Cache steps on the outputElement to make it available for the next call\n",
              "  // to uploadFilesContinue from Python.\n",
              "  outputElement.steps = steps;\n",
              "\n",
              "  return _uploadFilesContinue(outputId);\n",
              "}\n",
              "\n",
              "// This is roughly an async generator (not supported in the browser yet),\n",
              "// where there are multiple asynchronous steps and the Python side is going\n",
              "// to poll for completion of each step.\n",
              "// This uses a Promise to block the python side on completion of each step,\n",
              "// then passes the result of the previous step as the input to the next step.\n",
              "function _uploadFilesContinue(outputId) {\n",
              "  const outputElement = document.getElementById(outputId);\n",
              "  const steps = outputElement.steps;\n",
              "\n",
              "  const next = steps.next(outputElement.lastPromiseValue);\n",
              "  return Promise.resolve(next.value.promise).then((value) => {\n",
              "    // Cache the last promise value to make it available to the next\n",
              "    // step of the generator.\n",
              "    outputElement.lastPromiseValue = value;\n",
              "    return next.value.response;\n",
              "  });\n",
              "}\n",
              "\n",
              "/**\n",
              " * Generator function which is called between each async step of the upload\n",
              " * process.\n",
              " * @param {string} inputId Element ID of the input file picker element.\n",
              " * @param {string} outputId Element ID of the output display.\n",
              " * @return {!Iterable<!Object>} Iterable of next steps.\n",
              " */\n",
              "function* uploadFilesStep(inputId, outputId) {\n",
              "  const inputElement = document.getElementById(inputId);\n",
              "  inputElement.disabled = false;\n",
              "\n",
              "  const outputElement = document.getElementById(outputId);\n",
              "  outputElement.innerHTML = '';\n",
              "\n",
              "  const pickedPromise = new Promise((resolve) => {\n",
              "    inputElement.addEventListener('change', (e) => {\n",
              "      resolve(e.target.files);\n",
              "    });\n",
              "  });\n",
              "\n",
              "  const cancel = document.createElement('button');\n",
              "  inputElement.parentElement.appendChild(cancel);\n",
              "  cancel.textContent = 'Cancel upload';\n",
              "  const cancelPromise = new Promise((resolve) => {\n",
              "    cancel.onclick = () => {\n",
              "      resolve(null);\n",
              "    };\n",
              "  });\n",
              "\n",
              "  // Wait for the user to pick the files.\n",
              "  const files = yield {\n",
              "    promise: Promise.race([pickedPromise, cancelPromise]),\n",
              "    response: {\n",
              "      action: 'starting',\n",
              "    }\n",
              "  };\n",
              "\n",
              "  cancel.remove();\n",
              "\n",
              "  // Disable the input element since further picks are not allowed.\n",
              "  inputElement.disabled = true;\n",
              "\n",
              "  if (!files) {\n",
              "    return {\n",
              "      response: {\n",
              "        action: 'complete',\n",
              "      }\n",
              "    };\n",
              "  }\n",
              "\n",
              "  for (const file of files) {\n",
              "    const li = document.createElement('li');\n",
              "    li.append(span(file.name, {fontWeight: 'bold'}));\n",
              "    li.append(span(\n",
              "        `(${file.type || 'n/a'}) - ${file.size} bytes, ` +\n",
              "        `last modified: ${\n",
              "            file.lastModifiedDate ? file.lastModifiedDate.toLocaleDateString() :\n",
              "                                    'n/a'} - `));\n",
              "    const percent = span('0% done');\n",
              "    li.appendChild(percent);\n",
              "\n",
              "    outputElement.appendChild(li);\n",
              "\n",
              "    const fileDataPromise = new Promise((resolve) => {\n",
              "      const reader = new FileReader();\n",
              "      reader.onload = (e) => {\n",
              "        resolve(e.target.result);\n",
              "      };\n",
              "      reader.readAsArrayBuffer(file);\n",
              "    });\n",
              "    // Wait for the data to be ready.\n",
              "    let fileData = yield {\n",
              "      promise: fileDataPromise,\n",
              "      response: {\n",
              "        action: 'continue',\n",
              "      }\n",
              "    };\n",
              "\n",
              "    // Use a chunked sending to avoid message size limits. See b/62115660.\n",
              "    let position = 0;\n",
              "    do {\n",
              "      const length = Math.min(fileData.byteLength - position, MAX_PAYLOAD_SIZE);\n",
              "      const chunk = new Uint8Array(fileData, position, length);\n",
              "      position += length;\n",
              "\n",
              "      const base64 = btoa(String.fromCharCode.apply(null, chunk));\n",
              "      yield {\n",
              "        response: {\n",
              "          action: 'append',\n",
              "          file: file.name,\n",
              "          data: base64,\n",
              "        },\n",
              "      };\n",
              "\n",
              "      let percentDone = fileData.byteLength === 0 ?\n",
              "          100 :\n",
              "          Math.round((position / fileData.byteLength) * 100);\n",
              "      percent.textContent = `${percentDone}% done`;\n",
              "\n",
              "    } while (position < fileData.byteLength);\n",
              "  }\n",
              "\n",
              "  // All done.\n",
              "  yield {\n",
              "    response: {\n",
              "      action: 'complete',\n",
              "    }\n",
              "  };\n",
              "}\n",
              "\n",
              "scope.google = scope.google || {};\n",
              "scope.google.colab = scope.google.colab || {};\n",
              "scope.google.colab._files = {\n",
              "  _uploadFiles,\n",
              "  _uploadFilesContinue,\n",
              "};\n",
              "})(self);\n",
              "</script> "
            ]
          },
          "metadata": {}
        },
        {
          "output_type": "execute_result",
          "data": {
            "text/plain": [
              "{}"
            ]
          },
          "metadata": {},
          "execution_count": 20
        }
      ]
    },
    {
      "cell_type": "code",
      "source": [
        "# me recomendo hacer este codigo tambien pero funciona sin esto perfectamente\n",
        "# no entiendo bien que es lo que hace esto, por eso lo dejo comentado\n",
        "\n",
        "\n",
        "import os\n",
        "import zipfile\n",
        "\n",
        "'''\n",
        "# crea directorio .kaggle si no existe\n",
        "os.makedirs(\"/root/.kaggle\", exist_ok=True)\n",
        "\n",
        "# se mueve el archivo kaggle.json a este directorio\n",
        "!mv kaggle.json /root/.kaggle/\n",
        "\n",
        "# este tiene que ver con permision para kaggle\n",
        "!chmod 600 /root/.kaggle/kaggle.json\n",
        "\n",
        "'''"
      ],
      "metadata": {
        "id": "0SZmLFNEuuH_",
        "outputId": "79da2b7e-93e5-4dd9-ebf1-e17465dafb4e",
        "colab": {
          "base_uri": "https://localhost:8080/",
          "height": 53
        }
      },
      "execution_count": null,
      "outputs": [
        {
          "output_type": "execute_result",
          "data": {
            "text/plain": [
              "'\\n# crea directorio .kaggle si no existe\\nos.makedirs(\"/root/.kaggle\", exist_ok=True)\\n\\n# se mueve el archivo kaggle.json a este directorio\\n!mv kaggle.json /root/.kaggle/\\n\\n# este tiene que ver con permision para kaggle\\n!chmod 600 /root/.kaggle/kaggle.json\\n\\n'"
            ],
            "application/vnd.google.colaboratory.intrinsic+json": {
              "type": "string"
            }
          },
          "metadata": {},
          "execution_count": 21
        }
      ]
    },
    {
      "cell_type": "code",
      "source": [
        "# se descarga el dataset de la pagina web de kaggle\n",
        "!kaggle datasets download -d usdot/flight-delays"
      ],
      "metadata": {
        "id": "Zs5MvlDEvIEo",
        "outputId": "dfba6488-a758-44f2-b09d-f007c435a367",
        "colab": {
          "base_uri": "https://localhost:8080/"
        }
      },
      "execution_count": null,
      "outputs": [
        {
          "output_type": "stream",
          "name": "stdout",
          "text": [
            "Dataset URL: https://www.kaggle.com/datasets/usdot/flight-delays\n",
            "License(s): CC0-1.0\n",
            "Downloading flight-delays.zip to /content\n",
            " 94% 179M/191M [00:01<00:00, 118MB/s]\n",
            "100% 191M/191M [00:01<00:00, 122MB/s]\n"
          ]
        }
      ]
    },
    {
      "cell_type": "code",
      "source": [
        "# sescomprime el archivo zip\n",
        "!unzip flight-delays.zip -d flight_delays_data"
      ],
      "metadata": {
        "id": "xLTG407zvMIU",
        "outputId": "d69f3cfe-e36f-40e6-9a4d-8785310ff6ca",
        "colab": {
          "base_uri": "https://localhost:8080/"
        }
      },
      "execution_count": null,
      "outputs": [
        {
          "output_type": "stream",
          "name": "stdout",
          "text": [
            "Archive:  flight-delays.zip\n",
            "  inflating: flight_delays_data/airlines.csv  \n",
            "  inflating: flight_delays_data/airports.csv  \n",
            "  inflating: flight_delays_data/flights.csv  \n"
          ]
        }
      ]
    },
    {
      "cell_type": "code",
      "source": [
        "# cargo los csv a dataframes\n",
        "import pandas as pd\n",
        "\n",
        "airlines_file = 'flight_delays_data/airlines.csv'\n",
        "airports_file = 'flight_delays_data/airports.csv'\n",
        "flights_file = 'flight_delays_data/flights.csv'\n",
        "\n",
        "airlines = pd.read_csv(airlines_file)\n",
        "airports = pd.read_csv(airports_file)\n",
        "flights = pd.read_csv(flights_file)\n",
        "\n",
        "print(\"Airlines:\\n\")\n",
        "print(airlines.head())\n",
        "print(\"--------------------------------------------\")\n",
        "print(\"Airports:\\n\")\n",
        "print(airports.head())\n",
        "print(\"--------------------------------------------\")\n",
        "print(\"Flights:\\n\")\n",
        "print(flights.head())"
      ],
      "metadata": {
        "id": "BRXKapO-vOxU",
        "outputId": "04549e64-e3ac-405b-d8ff-5e8dcbaf5dc8",
        "colab": {
          "base_uri": "https://localhost:8080/"
        }
      },
      "execution_count": null,
      "outputs": [
        {
          "output_type": "stream",
          "name": "stderr",
          "text": [
            "<ipython-input-24-94fe364de380>:10: DtypeWarning: Columns (7,8) have mixed types. Specify dtype option on import or set low_memory=False.\n",
            "  flights = pd.read_csv(flights_file)\n"
          ]
        },
        {
          "output_type": "stream",
          "name": "stdout",
          "text": [
            "Airlines:\n",
            "\n",
            "  IATA_CODE                 AIRLINE\n",
            "0        UA   United Air Lines Inc.\n",
            "1        AA  American Airlines Inc.\n",
            "2        US         US Airways Inc.\n",
            "3        F9  Frontier Airlines Inc.\n",
            "4        B6         JetBlue Airways\n",
            "--------------------------------------------\n",
            "Airports:\n",
            "\n",
            "  IATA_CODE                              AIRPORT         CITY STATE COUNTRY  \\\n",
            "0       ABE  Lehigh Valley International Airport    Allentown    PA     USA   \n",
            "1       ABI             Abilene Regional Airport      Abilene    TX     USA   \n",
            "2       ABQ    Albuquerque International Sunport  Albuquerque    NM     USA   \n",
            "3       ABR            Aberdeen Regional Airport     Aberdeen    SD     USA   \n",
            "4       ABY   Southwest Georgia Regional Airport       Albany    GA     USA   \n",
            "\n",
            "   LATITUDE  LONGITUDE  \n",
            "0  40.65236  -75.44040  \n",
            "1  32.41132  -99.68190  \n",
            "2  35.04022 -106.60919  \n",
            "3  45.44906  -98.42183  \n",
            "4  31.53552  -84.19447  \n",
            "--------------------------------------------\n",
            "Flights:\n",
            "\n",
            "   YEAR  MONTH  DAY  DAY_OF_WEEK AIRLINE  FLIGHT_NUMBER TAIL_NUMBER  \\\n",
            "0  2015      1    1            4      AS             98      N407AS   \n",
            "1  2015      1    1            4      AA           2336      N3KUAA   \n",
            "2  2015      1    1            4      US            840      N171US   \n",
            "3  2015      1    1            4      AA            258      N3HYAA   \n",
            "4  2015      1    1            4      AS            135      N527AS   \n",
            "\n",
            "  ORIGIN_AIRPORT DESTINATION_AIRPORT  SCHEDULED_DEPARTURE  ...  ARRIVAL_TIME  \\\n",
            "0            ANC                 SEA                    5  ...         408.0   \n",
            "1            LAX                 PBI                   10  ...         741.0   \n",
            "2            SFO                 CLT                   20  ...         811.0   \n",
            "3            LAX                 MIA                   20  ...         756.0   \n",
            "4            SEA                 ANC                   25  ...         259.0   \n",
            "\n",
            "   ARRIVAL_DELAY  DIVERTED  CANCELLED  CANCELLATION_REASON  AIR_SYSTEM_DELAY  \\\n",
            "0          -22.0         0          0                  NaN               NaN   \n",
            "1           -9.0         0          0                  NaN               NaN   \n",
            "2            5.0         0          0                  NaN               NaN   \n",
            "3           -9.0         0          0                  NaN               NaN   \n",
            "4          -21.0         0          0                  NaN               NaN   \n",
            "\n",
            "   SECURITY_DELAY  AIRLINE_DELAY  LATE_AIRCRAFT_DELAY  WEATHER_DELAY  \n",
            "0             NaN            NaN                  NaN            NaN  \n",
            "1             NaN            NaN                  NaN            NaN  \n",
            "2             NaN            NaN                  NaN            NaN  \n",
            "3             NaN            NaN                  NaN            NaN  \n",
            "4             NaN            NaN                  NaN            NaN  \n",
            "\n",
            "[5 rows x 31 columns]\n"
          ]
        }
      ]
    },
    {
      "cell_type": "markdown",
      "source": [
        "Combine (*join*) las tablas `airlines`, `airports`, y `flights` en una sola tabla."
      ],
      "metadata": {
        "id": "PjDZHuvKCKNp"
      }
    },
    {
      "cell_type": "code",
      "source": [
        "# flights con airlines usando la columna AIRLINE\n",
        "airflights = pd.merge(flights, airlines, how='left', left_on='AIRLINE', right_on='IATA_CODE')"
      ],
      "metadata": {
        "id": "SuPoUXhju0va"
      },
      "execution_count": null,
      "outputs": []
    },
    {
      "cell_type": "code",
      "source": [
        "\n",
        "# airports con airports usando la columna ORIGIN_AIRPORT\n",
        "airflights = pd.merge(airflights, airports, how='left', left_on='ORIGIN_AIRPORT', right_on='IATA_CODE')\n",
        "\n",
        "# airports con airports usando la columna DESTINATION_AIRPORT\n",
        "airflights = pd.merge(airflights, airports, how='left', left_on='DESTINATION_AIRPORT', right_on='IATA_CODE')\n",
        "\n",
        "print(airflights.head())"
      ],
      "metadata": {
        "id": "S-3AgSXdveUj",
        "outputId": "8cbc761b-e8be-4f5c-bef2-070cb962c980",
        "colab": {
          "base_uri": "https://localhost:8080/"
        }
      },
      "execution_count": null,
      "outputs": [
        {
          "output_type": "stream",
          "name": "stdout",
          "text": [
            "   YEAR  MONTH  DAY  DAY_OF_WEEK AIRLINE_x  FLIGHT_NUMBER TAIL_NUMBER  \\\n",
            "0  2015      1    1            4        AS             98      N407AS   \n",
            "1  2015      1    1            4        AA           2336      N3KUAA   \n",
            "2  2015      1    1            4        US            840      N171US   \n",
            "3  2015      1    1            4        AA            258      N3HYAA   \n",
            "4  2015      1    1            4        AS            135      N527AS   \n",
            "\n",
            "  ORIGIN_AIRPORT DESTINATION_AIRPORT  SCHEDULED_DEPARTURE  ...  COUNTRY_x  \\\n",
            "0            ANC                 SEA                    5  ...        USA   \n",
            "1            LAX                 PBI                   10  ...        USA   \n",
            "2            SFO                 CLT                   20  ...        USA   \n",
            "3            LAX                 MIA                   20  ...        USA   \n",
            "4            SEA                 ANC                   25  ...        USA   \n",
            "\n",
            "   LATITUDE_x  LONGITUDE_x  IATA_CODE  \\\n",
            "0    61.17432   -149.99619        SEA   \n",
            "1    33.94254   -118.40807        PBI   \n",
            "2    37.61900   -122.37484        CLT   \n",
            "3    33.94254   -118.40807        MIA   \n",
            "4    47.44898   -122.30931        ANC   \n",
            "\n",
            "                                     AIRPORT_y           CITY_y  STATE_y  \\\n",
            "0         Seattle-Tacoma International Airport          Seattle       WA   \n",
            "1             Palm Beach International Airport  West Palm Beach       FL   \n",
            "2      Charlotte Douglas International Airport        Charlotte       NC   \n",
            "3                  Miami International Airport            Miami       FL   \n",
            "4  Ted Stevens Anchorage International Airport        Anchorage       AK   \n",
            "\n",
            "   COUNTRY_y  LATITUDE_y  LONGITUDE_y  \n",
            "0        USA    47.44898   -122.30931  \n",
            "1        USA    26.68316    -80.09559  \n",
            "2        USA    35.21401    -80.94313  \n",
            "3        USA    25.79325    -80.29056  \n",
            "4        USA    61.17432   -149.99619  \n",
            "\n",
            "[5 rows x 47 columns]\n"
          ]
        }
      ]
    },
    {
      "cell_type": "code",
      "source": [
        "for col in airflights.columns:\n",
        "    print(col)"
      ],
      "metadata": {
        "id": "ptJH7OLdviAq",
        "outputId": "ff3fb881-5fd9-4900-d82c-b128e9a1c8d6",
        "colab": {
          "base_uri": "https://localhost:8080/"
        }
      },
      "execution_count": null,
      "outputs": [
        {
          "output_type": "stream",
          "name": "stdout",
          "text": [
            "YEAR\n",
            "MONTH\n",
            "DAY\n",
            "DAY_OF_WEEK\n",
            "AIRLINE_x\n",
            "FLIGHT_NUMBER\n",
            "TAIL_NUMBER\n",
            "ORIGIN_AIRPORT\n",
            "DESTINATION_AIRPORT\n",
            "SCHEDULED_DEPARTURE\n",
            "DEPARTURE_TIME\n",
            "DEPARTURE_DELAY\n",
            "TAXI_OUT\n",
            "WHEELS_OFF\n",
            "SCHEDULED_TIME\n",
            "ELAPSED_TIME\n",
            "AIR_TIME\n",
            "DISTANCE\n",
            "WHEELS_ON\n",
            "TAXI_IN\n",
            "SCHEDULED_ARRIVAL\n",
            "ARRIVAL_TIME\n",
            "ARRIVAL_DELAY\n",
            "DIVERTED\n",
            "CANCELLED\n",
            "CANCELLATION_REASON\n",
            "AIR_SYSTEM_DELAY\n",
            "SECURITY_DELAY\n",
            "AIRLINE_DELAY\n",
            "LATE_AIRCRAFT_DELAY\n",
            "WEATHER_DELAY\n",
            "IATA_CODE_x\n",
            "AIRLINE_y\n",
            "IATA_CODE_y\n",
            "AIRPORT_x\n",
            "CITY_x\n",
            "STATE_x\n",
            "COUNTRY_x\n",
            "LATITUDE_x\n",
            "LONGITUDE_x\n",
            "IATA_CODE\n",
            "AIRPORT_y\n",
            "CITY_y\n",
            "STATE_y\n",
            "COUNTRY_y\n",
            "LATITUDE_y\n",
            "LONGITUDE_y\n"
          ]
        }
      ]
    },
    {
      "cell_type": "code",
      "source": [
        "# hay columnas redundantes\n",
        "columns_to_print = [\n",
        "    'AIRLINE_x',\n",
        "    'IATA_CODE_x',\n",
        "    'AIRLINE_y',\n",
        "    'IATA_CODE_y',\n",
        "    'AIRPORT_x',\n",
        "    'CITY_x',\n",
        "    'STATE_x',\n",
        "    'COUNTRY_x',\n",
        "    'LATITUDE_x',\n",
        "    'LONGITUDE_x',\n",
        "    'IATA_CODE',\n",
        "    'AIRPORT_y',\n",
        "    'CITY_y',\n",
        "    'STATE_y',\n",
        "    'COUNTRY_y',\n",
        "    'LATITUDE_y',\n",
        "    'LONGITUDE_y'\n",
        "]\n",
        "\n",
        "print(airflights[columns_to_print].head())"
      ],
      "metadata": {
        "id": "Jc5W8eoRvmx7",
        "outputId": "02d64789-fe43-4b04-cec5-fc7ed209b918",
        "colab": {
          "base_uri": "https://localhost:8080/"
        }
      },
      "execution_count": null,
      "outputs": [
        {
          "output_type": "stream",
          "name": "stdout",
          "text": [
            "  AIRLINE_x IATA_CODE_x               AIRLINE_y IATA_CODE_y  \\\n",
            "0        AS          AS    Alaska Airlines Inc.         ANC   \n",
            "1        AA          AA  American Airlines Inc.         LAX   \n",
            "2        US          US         US Airways Inc.         SFO   \n",
            "3        AA          AA  American Airlines Inc.         LAX   \n",
            "4        AS          AS    Alaska Airlines Inc.         SEA   \n",
            "\n",
            "                                     AIRPORT_x         CITY_x STATE_x  \\\n",
            "0  Ted Stevens Anchorage International Airport      Anchorage      AK   \n",
            "1            Los Angeles International Airport    Los Angeles      CA   \n",
            "2          San Francisco International Airport  San Francisco      CA   \n",
            "3            Los Angeles International Airport    Los Angeles      CA   \n",
            "4         Seattle-Tacoma International Airport        Seattle      WA   \n",
            "\n",
            "  COUNTRY_x  LATITUDE_x  LONGITUDE_x IATA_CODE  \\\n",
            "0       USA    61.17432   -149.99619       SEA   \n",
            "1       USA    33.94254   -118.40807       PBI   \n",
            "2       USA    37.61900   -122.37484       CLT   \n",
            "3       USA    33.94254   -118.40807       MIA   \n",
            "4       USA    47.44898   -122.30931       ANC   \n",
            "\n",
            "                                     AIRPORT_y           CITY_y STATE_y  \\\n",
            "0         Seattle-Tacoma International Airport          Seattle      WA   \n",
            "1             Palm Beach International Airport  West Palm Beach      FL   \n",
            "2      Charlotte Douglas International Airport        Charlotte      NC   \n",
            "3                  Miami International Airport            Miami      FL   \n",
            "4  Ted Stevens Anchorage International Airport        Anchorage      AK   \n",
            "\n",
            "  COUNTRY_y  LATITUDE_y  LONGITUDE_y  \n",
            "0       USA    47.44898   -122.30931  \n",
            "1       USA    26.68316    -80.09559  \n",
            "2       USA    35.21401    -80.94313  \n",
            "3       USA    25.79325    -80.29056  \n",
            "4       USA    61.17432   -149.99619  \n"
          ]
        }
      ]
    },
    {
      "cell_type": "code",
      "source": [
        "# modifico las columnas\n",
        "airflights.rename(columns={'AIRLINE_x': 'AIRLINE_IATA'}, inplace=True) #inplace para cambiar el df original y no crear una copia\n",
        "airflights.drop(columns=['IATA_CODE_x'], inplace=True)\n",
        "airflights.rename(columns={'AIRLINE_y': 'AIRLINE'}, inplace=True)\n",
        "airflights.rename(columns={'IATA_CODE_y': 'AIRPORT_ORIGIN_IATA'}, inplace=True)\n",
        "airflights.rename(columns={'AIRPORT_x': 'AIRPORT_ORIGIN'}, inplace=True)\n",
        "airflights.rename(columns={'CITY_x': 'CITY_ORIGIN'}, inplace=True)\n",
        "airflights.rename(columns={'STATE_x': 'STATE_ORIGIN'}, inplace=True)\n",
        "airflights.rename(columns={'COUNTRY_x': 'COUNTRY_ORIGIN'}, inplace=True)\n",
        "airflights.rename(columns={'LATITUDE_x': 'LATITUDE_ORIGIN'}, inplace=True)\n",
        "airflights.rename(columns={'LONGITUDE_x': 'LONGITUDE_ORIGIN'}, inplace=True)\n",
        "airflights.rename(columns={'IATA_CODE': 'AIRPORT_DESTINATION_IATA'}, inplace=True)\n",
        "airflights.rename(columns={'AIRPORT_y': 'AIRPORT_DESTINATION'}, inplace=True)\n",
        "airflights.rename(columns={'CITY_y': 'CITY_DESTINATION'}, inplace=True)\n",
        "airflights.rename(columns={'STATE_y': 'STATE_DESTINATION'}, inplace=True)\n",
        "airflights.rename(columns={'COUNTRY_y': 'COUNTRY_DESTINATION'}, inplace=True)\n",
        "airflights.rename(columns={'LATITUDE_y': 'LATITUDE_DESTINATION'}, inplace=True)\n",
        "airflights.rename(columns={'LONGITUDE_y': 'LONGITUDE_DESTINATION'}, inplace=True)"
      ],
      "metadata": {
        "id": "4Eg-r1WhvqKW"
      },
      "execution_count": null,
      "outputs": []
    },
    {
      "cell_type": "code",
      "source": [
        "print(airflights.head())"
      ],
      "metadata": {
        "id": "TUod9_OxvsKu",
        "outputId": "8376b11b-6883-41e3-cbc5-0d7a5175916a",
        "colab": {
          "base_uri": "https://localhost:8080/"
        }
      },
      "execution_count": null,
      "outputs": [
        {
          "output_type": "stream",
          "name": "stdout",
          "text": [
            "   YEAR  MONTH  DAY  DAY_OF_WEEK AIRLINE_IATA  FLIGHT_NUMBER TAIL_NUMBER  \\\n",
            "0  2015      1    1            4           AS             98      N407AS   \n",
            "1  2015      1    1            4           AA           2336      N3KUAA   \n",
            "2  2015      1    1            4           US            840      N171US   \n",
            "3  2015      1    1            4           AA            258      N3HYAA   \n",
            "4  2015      1    1            4           AS            135      N527AS   \n",
            "\n",
            "  ORIGIN_AIRPORT DESTINATION_AIRPORT  SCHEDULED_DEPARTURE  ...  \\\n",
            "0            ANC                 SEA                    5  ...   \n",
            "1            LAX                 PBI                   10  ...   \n",
            "2            SFO                 CLT                   20  ...   \n",
            "3            LAX                 MIA                   20  ...   \n",
            "4            SEA                 ANC                   25  ...   \n",
            "\n",
            "   COUNTRY_ORIGIN  LATITUDE_ORIGIN  LONGITUDE_ORIGIN  \\\n",
            "0             USA         61.17432        -149.99619   \n",
            "1             USA         33.94254        -118.40807   \n",
            "2             USA         37.61900        -122.37484   \n",
            "3             USA         33.94254        -118.40807   \n",
            "4             USA         47.44898        -122.30931   \n",
            "\n",
            "   AIRPORT_DESTINATION_IATA                          AIRPORT_DESTINATION  \\\n",
            "0                       SEA         Seattle-Tacoma International Airport   \n",
            "1                       PBI             Palm Beach International Airport   \n",
            "2                       CLT      Charlotte Douglas International Airport   \n",
            "3                       MIA                  Miami International Airport   \n",
            "4                       ANC  Ted Stevens Anchorage International Airport   \n",
            "\n",
            "   CITY_DESTINATION  STATE_DESTINATION  COUNTRY_DESTINATION  \\\n",
            "0           Seattle                 WA                  USA   \n",
            "1   West Palm Beach                 FL                  USA   \n",
            "2         Charlotte                 NC                  USA   \n",
            "3             Miami                 FL                  USA   \n",
            "4         Anchorage                 AK                  USA   \n",
            "\n",
            "   LATITUDE_DESTINATION  LONGITUDE_DESTINATION  \n",
            "0              47.44898             -122.30931  \n",
            "1              26.68316              -80.09559  \n",
            "2              35.21401              -80.94313  \n",
            "3              25.79325              -80.29056  \n",
            "4              61.17432             -149.99619  \n",
            "\n",
            "[5 rows x 46 columns]\n"
          ]
        }
      ]
    },
    {
      "cell_type": "markdown",
      "source": [
        "¿Cuantos vuelos fueron al aeropuerto JFK?"
      ],
      "metadata": {
        "id": "qnx03j1hFm54"
      }
    },
    {
      "cell_type": "code",
      "source": [
        "vuelos_jfk = airflights[airflights['AIRPORT_DESTINATION_IATA'] == 'JFK']\n",
        "print(len(vuelos_jfk))"
      ],
      "metadata": {
        "id": "lmluYuizFnKD",
        "outputId": "b79aa024-3bcf-4d51-b112-3261227aa2c5",
        "colab": {
          "base_uri": "https://localhost:8080/"
        }
      },
      "execution_count": null,
      "outputs": [
        {
          "output_type": "stream",
          "name": "stdout",
          "text": [
            "93809\n"
          ]
        }
      ]
    },
    {
      "cell_type": "markdown",
      "source": [
        "¿Cuantos vuelos hizo la aerolinea AA?"
      ],
      "metadata": {
        "id": "dhyTy9BhFnXx"
      }
    },
    {
      "cell_type": "code",
      "source": [
        "vuelos_aa = airflights[airflights['AIRLINE_IATA'] == 'AA']\n",
        "print(len(vuelos_aa))"
      ],
      "metadata": {
        "id": "IupGmRDpFnsu",
        "outputId": "b291fd60-4117-476d-a55b-e92e2045bb1d",
        "colab": {
          "base_uri": "https://localhost:8080/"
        }
      },
      "execution_count": null,
      "outputs": [
        {
          "output_type": "stream",
          "name": "stdout",
          "text": [
            "725984\n"
          ]
        }
      ]
    },
    {
      "cell_type": "markdown",
      "source": [
        "¿Que aerolineas (las primeras 5) tuvo la menor cantidad de vuelos con atrasos? Imprimirlas."
      ],
      "metadata": {
        "id": "kMP-JH_VEsMb"
      }
    },
    {
      "cell_type": "code",
      "source": [
        "# asumo que vuelos atrasados se refiere a los vuelos que partieron tarde, es decir DEPARTURE_DELAY\n",
        "\n",
        "# asumo que estoy buscando la menor cantidad de atrasos dentro de grupo de vuelos atrasados\n",
        "# es decir, por ejemplo, alguna aerolinea que no tuvo ningun atraso no esta en este grupo\n",
        "# entonces la menor cantidad de atrasos siempre sera mayor a 0\n",
        "\n",
        "vuelos_atrasados = airflights[airflights['DEPARTURE_DELAY'] > 0]\n",
        "\n",
        "# a grupo por aerolineas\n",
        "vuelos_atrasados_agrupados = vuelos_atrasados.groupby('AIRLINE')\n",
        "\n",
        "# calculo el tamanio usando size()\n",
        "vuelos_atrasados_agrupados_tamanio = vuelos_atrasados_agrupados.size()\n",
        "\n",
        "# ordeno\n",
        "vuelos_atrasados_agrupados_tamanio = vuelos_atrasados_agrupados_tamanio.sort_values(ascending=True)\n",
        "\n",
        "# imprimo las 5 primeras\n",
        "print(vuelos_atrasados_agrupados_tamanio.head())"
      ],
      "metadata": {
        "id": "4-h0JTPuEsZk",
        "outputId": "f5883bcc-e93f-4587-bb7f-435852eda4ac",
        "colab": {
          "base_uri": "https://localhost:8080/"
        }
      },
      "execution_count": null,
      "outputs": [
        {
          "output_type": "stream",
          "name": "stdout",
          "text": [
            "AIRLINE\n",
            "Hawaiian Airlines Inc.    20146\n",
            "Virgin America            23379\n",
            "Frontier Airlines Inc.    34893\n",
            "Alaska Airlines Inc.      43566\n",
            "Spirit Air Lines          52089\n",
            "dtype: int64\n"
          ]
        }
      ]
    },
    {
      "cell_type": "markdown",
      "source": [
        "¿Que aerolineas (las primeras 5) tuvo la mayor cantidad de vuelos con atrasos? Imprimirlas."
      ],
      "metadata": {
        "id": "AD51bj4AEs3L"
      }
    },
    {
      "cell_type": "code",
      "source": [
        "# ordeno\n",
        "vuelos_atrasados_agrupados_tamanio = vuelos_atrasados_agrupados_tamanio.sort_values(ascending=False)\n",
        "\n",
        "# imprimo las 5 primeras\n",
        "print(vuelos_atrasados_agrupados_tamanio.head())"
      ],
      "metadata": {
        "id": "MiB6jHQ2Erqx",
        "outputId": "7c257b05-865d-4415-aea2-cf48672d62c0",
        "colab": {
          "base_uri": "https://localhost:8080/"
        }
      },
      "execution_count": null,
      "outputs": [
        {
          "output_type": "stream",
          "name": "stdout",
          "text": [
            "AIRLINE\n",
            "Southwest Airlines Co.    566807\n",
            "Delta Air Lines Inc.      282463\n",
            "United Air Lines Inc.     256550\n",
            "American Airlines Inc.    245904\n",
            "Skywest Airlines Inc.     171572\n",
            "dtype: int64\n"
          ]
        }
      ]
    },
    {
      "cell_type": "markdown",
      "source": [
        "Haga un resumen de las razones por la cual los vuelos se atrasan."
      ],
      "metadata": {
        "id": "DWQedGQvFYGP"
      }
    },
    {
      "cell_type": "code",
      "source": [
        "# busco columnas que contengan la palabra DELAY\n",
        "delay = airflights.filter(like='DELAY')\n",
        "print(delay.head())\n",
        "\n",
        "# Segun las columnas los vuelos se atrasan por:\n",
        "# - tiempo, condiciones meteorologicas\n",
        "# - retraso por llegada tardia del avion (LATE_AIRCRAFT_DELAY), el vuelo se retrasa por el retraso del vuelo anterior\n",
        "# - retraso por decison de aerolinea\n",
        "# - retraso por razones de seguridad"
      ],
      "metadata": {
        "id": "AtPN0dv5FX3d",
        "outputId": "502c762e-16d9-4554-b8e0-07fa881f0cb0",
        "colab": {
          "base_uri": "https://localhost:8080/"
        }
      },
      "execution_count": null,
      "outputs": [
        {
          "output_type": "stream",
          "name": "stdout",
          "text": [
            "   DEPARTURE_DELAY  ARRIVAL_DELAY  AIR_SYSTEM_DELAY  SECURITY_DELAY  \\\n",
            "0            -11.0          -22.0               NaN             NaN   \n",
            "1             -8.0           -9.0               NaN             NaN   \n",
            "2             -2.0            5.0               NaN             NaN   \n",
            "3             -5.0           -9.0               NaN             NaN   \n",
            "4             -1.0          -21.0               NaN             NaN   \n",
            "\n",
            "   AIRLINE_DELAY  LATE_AIRCRAFT_DELAY  WEATHER_DELAY  \n",
            "0            NaN                  NaN            NaN  \n",
            "1            NaN                  NaN            NaN  \n",
            "2            NaN                  NaN            NaN  \n",
            "3            NaN                  NaN            NaN  \n",
            "4            NaN                  NaN            NaN  \n"
          ]
        }
      ]
    },
    {
      "cell_type": "markdown",
      "source": [
        "Compruebe si hay columnas con celdas vacias."
      ],
      "metadata": {
        "id": "rMpR4FWdCKF2"
      }
    },
    {
      "cell_type": "code",
      "source": [
        "# celdas vacias NULL\n",
        "celdas_vacias = airflights.isnull().sum()\n",
        "print(celdas_vacias)\n",
        "\n",
        "# valores de cero indica que no contienen ninguna celda vacia"
      ],
      "metadata": {
        "id": "S_SzBL9ZCKCV",
        "outputId": "efef75ba-52d3-4594-e72e-4f5a60bc5112",
        "colab": {
          "base_uri": "https://localhost:8080/"
        }
      },
      "execution_count": null,
      "outputs": [
        {
          "output_type": "stream",
          "name": "stdout",
          "text": [
            "YEAR                              0\n",
            "MONTH                             0\n",
            "DAY                               0\n",
            "DAY_OF_WEEK                       0\n",
            "AIRLINE_IATA                      0\n",
            "FLIGHT_NUMBER                     0\n",
            "TAIL_NUMBER                   14721\n",
            "ORIGIN_AIRPORT                    0\n",
            "DESTINATION_AIRPORT               0\n",
            "SCHEDULED_DEPARTURE               0\n",
            "DEPARTURE_TIME                86153\n",
            "DEPARTURE_DELAY               86153\n",
            "TAXI_OUT                      89047\n",
            "WHEELS_OFF                    89047\n",
            "SCHEDULED_TIME                    6\n",
            "ELAPSED_TIME                 105071\n",
            "AIR_TIME                     105071\n",
            "DISTANCE                          0\n",
            "WHEELS_ON                     92513\n",
            "TAXI_IN                       92513\n",
            "SCHEDULED_ARRIVAL                 0\n",
            "ARRIVAL_TIME                  92513\n",
            "ARRIVAL_DELAY                105071\n",
            "DIVERTED                          0\n",
            "CANCELLED                         0\n",
            "CANCELLATION_REASON         5729195\n",
            "AIR_SYSTEM_DELAY            4755640\n",
            "SECURITY_DELAY              4755640\n",
            "AIRLINE_DELAY               4755640\n",
            "LATE_AIRCRAFT_DELAY         4755640\n",
            "WEATHER_DELAY               4755640\n",
            "AIRLINE                           0\n",
            "AIRPORT_ORIGIN_IATA          486165\n",
            "AIRPORT_ORIGIN               486165\n",
            "CITY_ORIGIN                  486165\n",
            "STATE_ORIGIN                 486165\n",
            "COUNTRY_ORIGIN               486165\n",
            "LATITUDE_ORIGIN              490770\n",
            "LONGITUDE_ORIGIN             490770\n",
            "AIRPORT_DESTINATION_IATA     486165\n",
            "AIRPORT_DESTINATION          486165\n",
            "CITY_DESTINATION             486165\n",
            "STATE_DESTINATION            486165\n",
            "COUNTRY_DESTINATION          486165\n",
            "LATITUDE_DESTINATION         490775\n",
            "LONGITUDE_DESTINATION        490775\n",
            "dtype: int64\n"
          ]
        }
      ]
    },
    {
      "cell_type": "markdown",
      "source": [
        "Haga una imputación de datos COMPLETA del dataframe. Pueden escojer cualquier estrategia y no necesariamente todas las columnas deben seguir la misma estrategia."
      ],
      "metadata": {
        "id": "1IH7wd3PCJfQ"
      }
    },
    {
      "cell_type": "code",
      "source": [
        "columnas_vacias = airflights.columns[airflights.isnull().sum() != 0]\n",
        "\n",
        "print(columnas_vacias)"
      ],
      "metadata": {
        "id": "PHmO-jb8CJaF",
        "outputId": "9e8906a4-f3ae-424c-b26a-34b09b292d5c",
        "colab": {
          "base_uri": "https://localhost:8080/"
        }
      },
      "execution_count": null,
      "outputs": [
        {
          "output_type": "stream",
          "name": "stdout",
          "text": [
            "Index(['TAIL_NUMBER', 'DEPARTURE_TIME', 'DEPARTURE_DELAY', 'TAXI_OUT',\n",
            "       'WHEELS_OFF', 'SCHEDULED_TIME', 'ELAPSED_TIME', 'AIR_TIME', 'WHEELS_ON',\n",
            "       'TAXI_IN', 'ARRIVAL_TIME', 'ARRIVAL_DELAY', 'CANCELLATION_REASON',\n",
            "       'AIR_SYSTEM_DELAY', 'SECURITY_DELAY', 'AIRLINE_DELAY',\n",
            "       'LATE_AIRCRAFT_DELAY', 'WEATHER_DELAY', 'AIRPORT_ORIGIN_IATA',\n",
            "       'AIRPORT_ORIGIN', 'CITY_ORIGIN', 'STATE_ORIGIN', 'COUNTRY_ORIGIN',\n",
            "       'LATITUDE_ORIGIN', 'LONGITUDE_ORIGIN', 'AIRPORT_DESTINATION_IATA',\n",
            "       'AIRPORT_DESTINATION', 'CITY_DESTINATION', 'STATE_DESTINATION',\n",
            "       'COUNTRY_DESTINATION', 'LATITUDE_DESTINATION', 'LONGITUDE_DESTINATION'],\n",
            "      dtype='object')\n"
          ]
        }
      ]
    }
  ]
}